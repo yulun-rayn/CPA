{
 "cells": [
  {
   "cell_type": "code",
   "execution_count": 1,
   "metadata": {},
   "outputs": [
    {
     "name": "stdout",
     "output_type": "stream",
     "text": [
      "scanpy==1.9.1 anndata==0.8.0 umap==0.5.3 numpy==1.21.5 scipy==1.7.3 pandas==1.4.2 scikit-learn==1.0.2 statsmodels==0.13.2 pynndescent==0.5.4\n"
     ]
    }
   ],
   "source": [
    "import os\n",
    "import numpy as np\n",
    "import scanpy as sc\n",
    "import anndata as ad\n",
    "import pandas as pd\n",
    "import re\n",
    "import seaborn as sns\n",
    "import matplotlib.pyplot as plt\n",
    "from sklearn.model_selection import train_test_split\n",
    "plt.rcParams['figure.figsize']=(5, 5)\n",
    "sc.settings.verbosity = 3\n",
    "sc.logging.print_header()\n",
    "#os.chdir('./../')\n",
    "\n",
    "\n",
    "%load_ext autoreload\n",
    "%autoreload 2 "
   ]
  },
  {
   "cell_type": "code",
   "execution_count": 2,
   "metadata": {},
   "outputs": [],
   "source": [
    "sc.set_figure_params(dpi=100)"
   ]
  },
  {
   "cell_type": "markdown",
   "metadata": {},
   "source": [
    "## loading the raw data"
   ]
  },
  {
   "cell_type": "code",
   "execution_count": 3,
   "metadata": {},
   "outputs": [],
   "source": [
    "import os"
   ]
  },
  {
   "cell_type": "code",
   "execution_count": 4,
   "metadata": {},
   "outputs": [
    {
     "data": {
      "text/plain": [
       "'/Users/yulunbwu/Documents/CPA/preprocessing'"
      ]
     },
     "execution_count": 4,
     "metadata": {},
     "output_type": "execute_result"
    }
   ],
   "source": [
    "os.getcwd()"
   ]
  },
  {
   "cell_type": "code",
   "execution_count": 5,
   "metadata": {},
   "outputs": [
    {
     "data": {
      "text/html": [
       "<div>\n",
       "<style scoped>\n",
       "    .dataframe tbody tr th:only-of-type {\n",
       "        vertical-align: middle;\n",
       "    }\n",
       "\n",
       "    .dataframe tbody tr th {\n",
       "        vertical-align: top;\n",
       "    }\n",
       "\n",
       "    .dataframe thead th {\n",
       "        text-align: right;\n",
       "    }\n",
       "</style>\n",
       "<table border=\"1\" class=\"dataframe\">\n",
       "  <thead>\n",
       "    <tr style=\"text-align: right;\">\n",
       "      <th></th>\n",
       "      <th>guide_identity</th>\n",
       "      <th>read_count</th>\n",
       "      <th>UMI_count</th>\n",
       "      <th>gemgroup</th>\n",
       "      <th>good_coverage</th>\n",
       "      <th>number_of_cells</th>\n",
       "      <th>guide_ids</th>\n",
       "      <th>guide_merged</th>\n",
       "      <th>split</th>\n",
       "      <th>batch</th>\n",
       "      <th>condition</th>\n",
       "      <th>cell_type</th>\n",
       "      <th>dose_val</th>\n",
       "      <th>control</th>\n",
       "      <th>drug_dose_name</th>\n",
       "      <th>cov_drug_dose_name</th>\n",
       "    </tr>\n",
       "    <tr>\n",
       "      <th>index</th>\n",
       "      <th></th>\n",
       "      <th></th>\n",
       "      <th></th>\n",
       "      <th></th>\n",
       "      <th></th>\n",
       "      <th></th>\n",
       "      <th></th>\n",
       "      <th></th>\n",
       "      <th></th>\n",
       "      <th></th>\n",
       "      <th></th>\n",
       "      <th></th>\n",
       "      <th></th>\n",
       "      <th></th>\n",
       "      <th></th>\n",
       "      <th></th>\n",
       "    </tr>\n",
       "  </thead>\n",
       "  <tbody>\n",
       "    <tr>\n",
       "      <th>TGCGGGTTCTAGAGTC-5-0-0</th>\n",
       "      <td>FOXL2_MEIS1__FOXL2_MEIS1</td>\n",
       "      <td>960</td>\n",
       "      <td>36</td>\n",
       "      <td>5</td>\n",
       "      <td>True</td>\n",
       "      <td>1</td>\n",
       "      <td>FOXL2,MEIS1</td>\n",
       "      <td>FOXL2+MEIS1</td>\n",
       "      <td>train</td>\n",
       "      <td>0</td>\n",
       "      <td>FOXL2+MEIS1</td>\n",
       "      <td>K562</td>\n",
       "      <td>1+1</td>\n",
       "      <td>0</td>\n",
       "      <td>FOXL2+MEIS1</td>\n",
       "      <td>K562_FOXL2+MEIS1_1+1</td>\n",
       "    </tr>\n",
       "    <tr>\n",
       "      <th>TTCCCAGGTTCAACCA-7-0-0</th>\n",
       "      <td>NegCtrl0_PRTG__NegCtrl0_PRTG</td>\n",
       "      <td>2069</td>\n",
       "      <td>109</td>\n",
       "      <td>7</td>\n",
       "      <td>True</td>\n",
       "      <td>1</td>\n",
       "      <td>PRTG</td>\n",
       "      <td>ctrl+PRTG</td>\n",
       "      <td>train</td>\n",
       "      <td>0</td>\n",
       "      <td>ctrl+PRTG</td>\n",
       "      <td>K562</td>\n",
       "      <td>1+1</td>\n",
       "      <td>0</td>\n",
       "      <td>ctrl+PRTG</td>\n",
       "      <td>K562_ctrl+PRTG_1+1</td>\n",
       "    </tr>\n",
       "    <tr>\n",
       "      <th>ATTGGTGTCTGTCTAT-6-0-0</th>\n",
       "      <td>CNN1_MAPK1__CNN1_MAPK1</td>\n",
       "      <td>1850</td>\n",
       "      <td>95</td>\n",
       "      <td>6</td>\n",
       "      <td>True</td>\n",
       "      <td>1</td>\n",
       "      <td>CNN1,MAPK1</td>\n",
       "      <td>CNN1+MAPK1</td>\n",
       "      <td>train</td>\n",
       "      <td>0</td>\n",
       "      <td>CNN1+MAPK1</td>\n",
       "      <td>K562</td>\n",
       "      <td>1+1</td>\n",
       "      <td>0</td>\n",
       "      <td>CNN1+MAPK1</td>\n",
       "      <td>K562_CNN1+MAPK1_1+1</td>\n",
       "    </tr>\n",
       "    <tr>\n",
       "      <th>TGGCTGGAGACAAGCC-3-0-0</th>\n",
       "      <td>DUSP9_PRTG__DUSP9_PRTG</td>\n",
       "      <td>1385</td>\n",
       "      <td>65</td>\n",
       "      <td>3</td>\n",
       "      <td>True</td>\n",
       "      <td>1</td>\n",
       "      <td>DUSP9,PRTG</td>\n",
       "      <td>DUSP9+PRTG</td>\n",
       "      <td>train</td>\n",
       "      <td>0</td>\n",
       "      <td>DUSP9+PRTG</td>\n",
       "      <td>K562</td>\n",
       "      <td>1+1</td>\n",
       "      <td>0</td>\n",
       "      <td>DUSP9+PRTG</td>\n",
       "      <td>K562_DUSP9+PRTG_1+1</td>\n",
       "    </tr>\n",
       "    <tr>\n",
       "      <th>CCCAGTTCATCCTTGC-6-0-0</th>\n",
       "      <td>DUSP9_IGDCC3__DUSP9_IGDCC3</td>\n",
       "      <td>493</td>\n",
       "      <td>21</td>\n",
       "      <td>6</td>\n",
       "      <td>True</td>\n",
       "      <td>1</td>\n",
       "      <td>DUSP9,IGDCC3</td>\n",
       "      <td>DUSP9+IGDCC3</td>\n",
       "      <td>train</td>\n",
       "      <td>0</td>\n",
       "      <td>DUSP9+IGDCC3</td>\n",
       "      <td>K562</td>\n",
       "      <td>1+1</td>\n",
       "      <td>0</td>\n",
       "      <td>DUSP9+IGDCC3</td>\n",
       "      <td>K562_DUSP9+IGDCC3_1+1</td>\n",
       "    </tr>\n",
       "    <tr>\n",
       "      <th>...</th>\n",
       "      <td>...</td>\n",
       "      <td>...</td>\n",
       "      <td>...</td>\n",
       "      <td>...</td>\n",
       "      <td>...</td>\n",
       "      <td>...</td>\n",
       "      <td>...</td>\n",
       "      <td>...</td>\n",
       "      <td>...</td>\n",
       "      <td>...</td>\n",
       "      <td>...</td>\n",
       "      <td>...</td>\n",
       "      <td>...</td>\n",
       "      <td>...</td>\n",
       "      <td>...</td>\n",
       "      <td>...</td>\n",
       "    </tr>\n",
       "    <tr>\n",
       "      <th>CAAGGCCCAGCTTCGG-2-1-1</th>\n",
       "      <td>NegCtrl10_NegCtrl0__NegCtrl10_NegCtrl0</td>\n",
       "      <td>2333</td>\n",
       "      <td>137</td>\n",
       "      <td>2</td>\n",
       "      <td>True</td>\n",
       "      <td>1</td>\n",
       "      <td></td>\n",
       "      <td>ctrl</td>\n",
       "      <td>test</td>\n",
       "      <td>1</td>\n",
       "      <td>ctrl</td>\n",
       "      <td>K562</td>\n",
       "      <td>1</td>\n",
       "      <td>1</td>\n",
       "      <td>ctrl</td>\n",
       "      <td>K562_ctrl_1</td>\n",
       "    </tr>\n",
       "    <tr>\n",
       "      <th>GCGCAGTAGGAATCGC-1-1-1</th>\n",
       "      <td>NegCtrl0_NegCtrl0__NegCtrl0_NegCtrl0</td>\n",
       "      <td>1924</td>\n",
       "      <td>96</td>\n",
       "      <td>1</td>\n",
       "      <td>True</td>\n",
       "      <td>1</td>\n",
       "      <td></td>\n",
       "      <td>ctrl</td>\n",
       "      <td>test</td>\n",
       "      <td>1</td>\n",
       "      <td>ctrl</td>\n",
       "      <td>K562</td>\n",
       "      <td>1</td>\n",
       "      <td>1</td>\n",
       "      <td>ctrl</td>\n",
       "      <td>K562_ctrl_1</td>\n",
       "    </tr>\n",
       "    <tr>\n",
       "      <th>GGGATGACAGGTGGAT-1-1-1</th>\n",
       "      <td>NegCtrl11_NegCtrl0__NegCtrl11_NegCtrl0</td>\n",
       "      <td>178</td>\n",
       "      <td>11</td>\n",
       "      <td>1</td>\n",
       "      <td>True</td>\n",
       "      <td>1</td>\n",
       "      <td></td>\n",
       "      <td>ctrl</td>\n",
       "      <td>test</td>\n",
       "      <td>1</td>\n",
       "      <td>ctrl</td>\n",
       "      <td>K562</td>\n",
       "      <td>1</td>\n",
       "      <td>1</td>\n",
       "      <td>ctrl</td>\n",
       "      <td>K562_ctrl_1</td>\n",
       "    </tr>\n",
       "    <tr>\n",
       "      <th>CGTTCTGCACCCATGG-4-1-1</th>\n",
       "      <td>NegCtrl11_NegCtrl0__NegCtrl11_NegCtrl0</td>\n",
       "      <td>1312</td>\n",
       "      <td>62</td>\n",
       "      <td>4</td>\n",
       "      <td>True</td>\n",
       "      <td>1</td>\n",
       "      <td></td>\n",
       "      <td>ctrl</td>\n",
       "      <td>test</td>\n",
       "      <td>1</td>\n",
       "      <td>ctrl</td>\n",
       "      <td>K562</td>\n",
       "      <td>1</td>\n",
       "      <td>1</td>\n",
       "      <td>ctrl</td>\n",
       "      <td>K562_ctrl_1</td>\n",
       "    </tr>\n",
       "    <tr>\n",
       "      <th>TGACGGCCAAACAACA-6-1-1</th>\n",
       "      <td>NegCtrl10_NegCtrl0__NegCtrl10_NegCtrl0</td>\n",
       "      <td>1639</td>\n",
       "      <td>82</td>\n",
       "      <td>6</td>\n",
       "      <td>True</td>\n",
       "      <td>2</td>\n",
       "      <td></td>\n",
       "      <td>ctrl</td>\n",
       "      <td>test</td>\n",
       "      <td>1</td>\n",
       "      <td>ctrl</td>\n",
       "      <td>K562</td>\n",
       "      <td>1</td>\n",
       "      <td>1</td>\n",
       "      <td>ctrl</td>\n",
       "      <td>K562_ctrl_1</td>\n",
       "    </tr>\n",
       "  </tbody>\n",
       "</table>\n",
       "<p>108497 rows × 16 columns</p>\n",
       "</div>"
      ],
      "text/plain": [
       "                                                guide_identity  read_count  \\\n",
       "index                                                                        \n",
       "TGCGGGTTCTAGAGTC-5-0-0                FOXL2_MEIS1__FOXL2_MEIS1         960   \n",
       "TTCCCAGGTTCAACCA-7-0-0            NegCtrl0_PRTG__NegCtrl0_PRTG        2069   \n",
       "ATTGGTGTCTGTCTAT-6-0-0                  CNN1_MAPK1__CNN1_MAPK1        1850   \n",
       "TGGCTGGAGACAAGCC-3-0-0                  DUSP9_PRTG__DUSP9_PRTG        1385   \n",
       "CCCAGTTCATCCTTGC-6-0-0              DUSP9_IGDCC3__DUSP9_IGDCC3         493   \n",
       "...                                                        ...         ...   \n",
       "CAAGGCCCAGCTTCGG-2-1-1  NegCtrl10_NegCtrl0__NegCtrl10_NegCtrl0        2333   \n",
       "GCGCAGTAGGAATCGC-1-1-1    NegCtrl0_NegCtrl0__NegCtrl0_NegCtrl0        1924   \n",
       "GGGATGACAGGTGGAT-1-1-1  NegCtrl11_NegCtrl0__NegCtrl11_NegCtrl0         178   \n",
       "CGTTCTGCACCCATGG-4-1-1  NegCtrl11_NegCtrl0__NegCtrl11_NegCtrl0        1312   \n",
       "TGACGGCCAAACAACA-6-1-1  NegCtrl10_NegCtrl0__NegCtrl10_NegCtrl0        1639   \n",
       "\n",
       "                        UMI_count  gemgroup  good_coverage  number_of_cells  \\\n",
       "index                                                                         \n",
       "TGCGGGTTCTAGAGTC-5-0-0         36         5           True                1   \n",
       "TTCCCAGGTTCAACCA-7-0-0        109         7           True                1   \n",
       "ATTGGTGTCTGTCTAT-6-0-0         95         6           True                1   \n",
       "TGGCTGGAGACAAGCC-3-0-0         65         3           True                1   \n",
       "CCCAGTTCATCCTTGC-6-0-0         21         6           True                1   \n",
       "...                           ...       ...            ...              ...   \n",
       "CAAGGCCCAGCTTCGG-2-1-1        137         2           True                1   \n",
       "GCGCAGTAGGAATCGC-1-1-1         96         1           True                1   \n",
       "GGGATGACAGGTGGAT-1-1-1         11         1           True                1   \n",
       "CGTTCTGCACCCATGG-4-1-1         62         4           True                1   \n",
       "TGACGGCCAAACAACA-6-1-1         82         6           True                2   \n",
       "\n",
       "                           guide_ids  guide_merged  split batch     condition  \\\n",
       "index                                                                           \n",
       "TGCGGGTTCTAGAGTC-5-0-0   FOXL2,MEIS1   FOXL2+MEIS1  train     0   FOXL2+MEIS1   \n",
       "TTCCCAGGTTCAACCA-7-0-0          PRTG     ctrl+PRTG  train     0     ctrl+PRTG   \n",
       "ATTGGTGTCTGTCTAT-6-0-0    CNN1,MAPK1    CNN1+MAPK1  train     0    CNN1+MAPK1   \n",
       "TGGCTGGAGACAAGCC-3-0-0    DUSP9,PRTG    DUSP9+PRTG  train     0    DUSP9+PRTG   \n",
       "CCCAGTTCATCCTTGC-6-0-0  DUSP9,IGDCC3  DUSP9+IGDCC3  train     0  DUSP9+IGDCC3   \n",
       "...                              ...           ...    ...   ...           ...   \n",
       "CAAGGCCCAGCTTCGG-2-1-1                        ctrl   test     1          ctrl   \n",
       "GCGCAGTAGGAATCGC-1-1-1                        ctrl   test     1          ctrl   \n",
       "GGGATGACAGGTGGAT-1-1-1                        ctrl   test     1          ctrl   \n",
       "CGTTCTGCACCCATGG-4-1-1                        ctrl   test     1          ctrl   \n",
       "TGACGGCCAAACAACA-6-1-1                        ctrl   test     1          ctrl   \n",
       "\n",
       "                       cell_type dose_val  control drug_dose_name  \\\n",
       "index                                                               \n",
       "TGCGGGTTCTAGAGTC-5-0-0      K562      1+1        0    FOXL2+MEIS1   \n",
       "TTCCCAGGTTCAACCA-7-0-0      K562      1+1        0      ctrl+PRTG   \n",
       "ATTGGTGTCTGTCTAT-6-0-0      K562      1+1        0     CNN1+MAPK1   \n",
       "TGGCTGGAGACAAGCC-3-0-0      K562      1+1        0     DUSP9+PRTG   \n",
       "CCCAGTTCATCCTTGC-6-0-0      K562      1+1        0   DUSP9+IGDCC3   \n",
       "...                          ...      ...      ...            ...   \n",
       "CAAGGCCCAGCTTCGG-2-1-1      K562        1        1           ctrl   \n",
       "GCGCAGTAGGAATCGC-1-1-1      K562        1        1           ctrl   \n",
       "GGGATGACAGGTGGAT-1-1-1      K562        1        1           ctrl   \n",
       "CGTTCTGCACCCATGG-4-1-1      K562        1        1           ctrl   \n",
       "TGACGGCCAAACAACA-6-1-1      K562        1        1           ctrl   \n",
       "\n",
       "                           cov_drug_dose_name  \n",
       "index                                          \n",
       "TGCGGGTTCTAGAGTC-5-0-0   K562_FOXL2+MEIS1_1+1  \n",
       "TTCCCAGGTTCAACCA-7-0-0     K562_ctrl+PRTG_1+1  \n",
       "ATTGGTGTCTGTCTAT-6-0-0    K562_CNN1+MAPK1_1+1  \n",
       "TGGCTGGAGACAAGCC-3-0-0    K562_DUSP9+PRTG_1+1  \n",
       "CCCAGTTCATCCTTGC-6-0-0  K562_DUSP9+IGDCC3_1+1  \n",
       "...                                       ...  \n",
       "CAAGGCCCAGCTTCGG-2-1-1            K562_ctrl_1  \n",
       "GCGCAGTAGGAATCGC-1-1-1            K562_ctrl_1  \n",
       "GGGATGACAGGTGGAT-1-1-1            K562_ctrl_1  \n",
       "CGTTCTGCACCCATGG-4-1-1            K562_ctrl_1  \n",
       "TGACGGCCAAACAACA-6-1-1            K562_ctrl_1  \n",
       "\n",
       "[108497 rows x 16 columns]"
      ]
     },
     "execution_count": 5,
     "metadata": {},
     "output_type": "execute_result"
    }
   ],
   "source": [
    "adata = sc.read(\"../datasets/Norman2019_raw.h5ad\")\n",
    "adata.obs"
   ]
  },
  {
   "cell_type": "code",
   "execution_count": 6,
   "metadata": {},
   "outputs": [],
   "source": [
    "needed_obs = adata.obs[[\"guide_identity\",\"read_count\", \"UMI_count\",\"gemgroup\",\"good_coverage\",\"number_of_cells\",\"guide_ids\"]].copy()"
   ]
  },
  {
   "cell_type": "code",
   "execution_count": 7,
   "metadata": {},
   "outputs": [],
   "source": [
    "adata_new = sc.AnnData(adata.X.copy(), obs=needed_obs, var=adata.var.copy())"
   ]
  },
  {
   "cell_type": "code",
   "execution_count": 8,
   "metadata": {},
   "outputs": [
    {
     "data": {
      "text/plain": [
       "AnnData object with n_obs × n_vars = 108497 × 5000\n",
       "    obs: 'guide_identity', 'read_count', 'UMI_count', 'gemgroup', 'good_coverage', 'number_of_cells', 'guide_ids'\n",
       "    var: 'gene_symbols', 'highly_variable', 'means', 'dispersions', 'dispersions_norm'"
      ]
     },
     "execution_count": 8,
     "metadata": {},
     "output_type": "execute_result"
    }
   ],
   "source": [
    "adata_new"
   ]
  },
  {
   "cell_type": "code",
   "execution_count": 9,
   "metadata": {},
   "outputs": [
    {
     "data": {
      "text/html": [
       "<div>\n",
       "<style scoped>\n",
       "    .dataframe tbody tr th:only-of-type {\n",
       "        vertical-align: middle;\n",
       "    }\n",
       "\n",
       "    .dataframe tbody tr th {\n",
       "        vertical-align: top;\n",
       "    }\n",
       "\n",
       "    .dataframe thead th {\n",
       "        text-align: right;\n",
       "    }\n",
       "</style>\n",
       "<table border=\"1\" class=\"dataframe\">\n",
       "  <thead>\n",
       "    <tr style=\"text-align: right;\">\n",
       "      <th></th>\n",
       "      <th>guide_identity</th>\n",
       "      <th>read_count</th>\n",
       "      <th>UMI_count</th>\n",
       "      <th>gemgroup</th>\n",
       "      <th>good_coverage</th>\n",
       "      <th>number_of_cells</th>\n",
       "      <th>guide_ids</th>\n",
       "    </tr>\n",
       "    <tr>\n",
       "      <th>index</th>\n",
       "      <th></th>\n",
       "      <th></th>\n",
       "      <th></th>\n",
       "      <th></th>\n",
       "      <th></th>\n",
       "      <th></th>\n",
       "      <th></th>\n",
       "    </tr>\n",
       "  </thead>\n",
       "  <tbody>\n",
       "    <tr>\n",
       "      <th>TGCGGGTTCTAGAGTC-5-0-0</th>\n",
       "      <td>FOXL2_MEIS1__FOXL2_MEIS1</td>\n",
       "      <td>960</td>\n",
       "      <td>36</td>\n",
       "      <td>5</td>\n",
       "      <td>True</td>\n",
       "      <td>1</td>\n",
       "      <td>FOXL2,MEIS1</td>\n",
       "    </tr>\n",
       "    <tr>\n",
       "      <th>TTCCCAGGTTCAACCA-7-0-0</th>\n",
       "      <td>NegCtrl0_PRTG__NegCtrl0_PRTG</td>\n",
       "      <td>2069</td>\n",
       "      <td>109</td>\n",
       "      <td>7</td>\n",
       "      <td>True</td>\n",
       "      <td>1</td>\n",
       "      <td>PRTG</td>\n",
       "    </tr>\n",
       "    <tr>\n",
       "      <th>ATTGGTGTCTGTCTAT-6-0-0</th>\n",
       "      <td>CNN1_MAPK1__CNN1_MAPK1</td>\n",
       "      <td>1850</td>\n",
       "      <td>95</td>\n",
       "      <td>6</td>\n",
       "      <td>True</td>\n",
       "      <td>1</td>\n",
       "      <td>CNN1,MAPK1</td>\n",
       "    </tr>\n",
       "    <tr>\n",
       "      <th>TGGCTGGAGACAAGCC-3-0-0</th>\n",
       "      <td>DUSP9_PRTG__DUSP9_PRTG</td>\n",
       "      <td>1385</td>\n",
       "      <td>65</td>\n",
       "      <td>3</td>\n",
       "      <td>True</td>\n",
       "      <td>1</td>\n",
       "      <td>DUSP9,PRTG</td>\n",
       "    </tr>\n",
       "    <tr>\n",
       "      <th>CCCAGTTCATCCTTGC-6-0-0</th>\n",
       "      <td>DUSP9_IGDCC3__DUSP9_IGDCC3</td>\n",
       "      <td>493</td>\n",
       "      <td>21</td>\n",
       "      <td>6</td>\n",
       "      <td>True</td>\n",
       "      <td>1</td>\n",
       "      <td>DUSP9,IGDCC3</td>\n",
       "    </tr>\n",
       "    <tr>\n",
       "      <th>...</th>\n",
       "      <td>...</td>\n",
       "      <td>...</td>\n",
       "      <td>...</td>\n",
       "      <td>...</td>\n",
       "      <td>...</td>\n",
       "      <td>...</td>\n",
       "      <td>...</td>\n",
       "    </tr>\n",
       "    <tr>\n",
       "      <th>CAAGGCCCAGCTTCGG-2-1-1</th>\n",
       "      <td>NegCtrl10_NegCtrl0__NegCtrl10_NegCtrl0</td>\n",
       "      <td>2333</td>\n",
       "      <td>137</td>\n",
       "      <td>2</td>\n",
       "      <td>True</td>\n",
       "      <td>1</td>\n",
       "      <td></td>\n",
       "    </tr>\n",
       "    <tr>\n",
       "      <th>GCGCAGTAGGAATCGC-1-1-1</th>\n",
       "      <td>NegCtrl0_NegCtrl0__NegCtrl0_NegCtrl0</td>\n",
       "      <td>1924</td>\n",
       "      <td>96</td>\n",
       "      <td>1</td>\n",
       "      <td>True</td>\n",
       "      <td>1</td>\n",
       "      <td></td>\n",
       "    </tr>\n",
       "    <tr>\n",
       "      <th>GGGATGACAGGTGGAT-1-1-1</th>\n",
       "      <td>NegCtrl11_NegCtrl0__NegCtrl11_NegCtrl0</td>\n",
       "      <td>178</td>\n",
       "      <td>11</td>\n",
       "      <td>1</td>\n",
       "      <td>True</td>\n",
       "      <td>1</td>\n",
       "      <td></td>\n",
       "    </tr>\n",
       "    <tr>\n",
       "      <th>CGTTCTGCACCCATGG-4-1-1</th>\n",
       "      <td>NegCtrl11_NegCtrl0__NegCtrl11_NegCtrl0</td>\n",
       "      <td>1312</td>\n",
       "      <td>62</td>\n",
       "      <td>4</td>\n",
       "      <td>True</td>\n",
       "      <td>1</td>\n",
       "      <td></td>\n",
       "    </tr>\n",
       "    <tr>\n",
       "      <th>TGACGGCCAAACAACA-6-1-1</th>\n",
       "      <td>NegCtrl10_NegCtrl0__NegCtrl10_NegCtrl0</td>\n",
       "      <td>1639</td>\n",
       "      <td>82</td>\n",
       "      <td>6</td>\n",
       "      <td>True</td>\n",
       "      <td>2</td>\n",
       "      <td></td>\n",
       "    </tr>\n",
       "  </tbody>\n",
       "</table>\n",
       "<p>108497 rows × 7 columns</p>\n",
       "</div>"
      ],
      "text/plain": [
       "                                                guide_identity  read_count  \\\n",
       "index                                                                        \n",
       "TGCGGGTTCTAGAGTC-5-0-0                FOXL2_MEIS1__FOXL2_MEIS1         960   \n",
       "TTCCCAGGTTCAACCA-7-0-0            NegCtrl0_PRTG__NegCtrl0_PRTG        2069   \n",
       "ATTGGTGTCTGTCTAT-6-0-0                  CNN1_MAPK1__CNN1_MAPK1        1850   \n",
       "TGGCTGGAGACAAGCC-3-0-0                  DUSP9_PRTG__DUSP9_PRTG        1385   \n",
       "CCCAGTTCATCCTTGC-6-0-0              DUSP9_IGDCC3__DUSP9_IGDCC3         493   \n",
       "...                                                        ...         ...   \n",
       "CAAGGCCCAGCTTCGG-2-1-1  NegCtrl10_NegCtrl0__NegCtrl10_NegCtrl0        2333   \n",
       "GCGCAGTAGGAATCGC-1-1-1    NegCtrl0_NegCtrl0__NegCtrl0_NegCtrl0        1924   \n",
       "GGGATGACAGGTGGAT-1-1-1  NegCtrl11_NegCtrl0__NegCtrl11_NegCtrl0         178   \n",
       "CGTTCTGCACCCATGG-4-1-1  NegCtrl11_NegCtrl0__NegCtrl11_NegCtrl0        1312   \n",
       "TGACGGCCAAACAACA-6-1-1  NegCtrl10_NegCtrl0__NegCtrl10_NegCtrl0        1639   \n",
       "\n",
       "                        UMI_count  gemgroup  good_coverage  number_of_cells  \\\n",
       "index                                                                         \n",
       "TGCGGGTTCTAGAGTC-5-0-0         36         5           True                1   \n",
       "TTCCCAGGTTCAACCA-7-0-0        109         7           True                1   \n",
       "ATTGGTGTCTGTCTAT-6-0-0         95         6           True                1   \n",
       "TGGCTGGAGACAAGCC-3-0-0         65         3           True                1   \n",
       "CCCAGTTCATCCTTGC-6-0-0         21         6           True                1   \n",
       "...                           ...       ...            ...              ...   \n",
       "CAAGGCCCAGCTTCGG-2-1-1        137         2           True                1   \n",
       "GCGCAGTAGGAATCGC-1-1-1         96         1           True                1   \n",
       "GGGATGACAGGTGGAT-1-1-1         11         1           True                1   \n",
       "CGTTCTGCACCCATGG-4-1-1         62         4           True                1   \n",
       "TGACGGCCAAACAACA-6-1-1         82         6           True                2   \n",
       "\n",
       "                           guide_ids  \n",
       "index                                 \n",
       "TGCGGGTTCTAGAGTC-5-0-0   FOXL2,MEIS1  \n",
       "TTCCCAGGTTCAACCA-7-0-0          PRTG  \n",
       "ATTGGTGTCTGTCTAT-6-0-0    CNN1,MAPK1  \n",
       "TGGCTGGAGACAAGCC-3-0-0    DUSP9,PRTG  \n",
       "CCCAGTTCATCCTTGC-6-0-0  DUSP9,IGDCC3  \n",
       "...                              ...  \n",
       "CAAGGCCCAGCTTCGG-2-1-1                \n",
       "GCGCAGTAGGAATCGC-1-1-1                \n",
       "GGGATGACAGGTGGAT-1-1-1                \n",
       "CGTTCTGCACCCATGG-4-1-1                \n",
       "TGACGGCCAAACAACA-6-1-1                \n",
       "\n",
       "[108497 rows x 7 columns]"
      ]
     },
     "execution_count": 9,
     "metadata": {},
     "output_type": "execute_result"
    }
   ],
   "source": [
    "adata_new.obs"
   ]
  },
  {
   "cell_type": "code",
   "execution_count": 10,
   "metadata": {},
   "outputs": [
    {
     "data": {
      "text/plain": [
       "['NegCtrl0_NegCtrl0__NegCtrl0_NegCtrl0',\n",
       " 'NegCtrl10_NegCtrl0__NegCtrl10_NegCtrl0',\n",
       " 'NegCtrl11_NegCtrl0__NegCtrl11_NegCtrl0']"
      ]
     },
     "execution_count": 10,
     "metadata": {},
     "output_type": "execute_result"
    }
   ],
   "source": [
    "# check all ctrl guides\n",
    "\n",
    "list_control = []\n",
    "for i in np.unique(adata_new.obs[\"guide_identity\"]):\n",
    "   m = re.match(r\"NegCtrl(.*)_NegCtrl(.*)+NegCtrl(.*)_NegCtrl(.*)\", i)\n",
    "   if m :\n",
    "    list_control.append(m.group())\n",
    "\n",
    "list_control"
   ]
  },
  {
   "cell_type": "code",
   "execution_count": 11,
   "metadata": {},
   "outputs": [],
   "source": [
    "# remove \"NegCtrl1_NegCtrl0__NegCtrl1_NegCtrl0\" suggested by authors\n",
    "\n",
    "adata_new = adata_new[adata_new.obs[\"guide_identity\"] != \"NegCtrl1_NegCtrl0__NegCtrl1_NegCtrl0\"] "
   ]
  },
  {
   "cell_type": "code",
   "execution_count": 12,
   "metadata": {},
   "outputs": [
    {
     "data": {
      "text/plain": [
       "View of AnnData object with n_obs × n_vars = 108497 × 5000\n",
       "    obs: 'guide_identity', 'read_count', 'UMI_count', 'gemgroup', 'good_coverage', 'number_of_cells', 'guide_ids'\n",
       "    var: 'gene_symbols', 'highly_variable', 'means', 'dispersions', 'dispersions_norm'"
      ]
     },
     "execution_count": 12,
     "metadata": {},
     "output_type": "execute_result"
    }
   ],
   "source": [
    "adata_new"
   ]
  },
  {
   "cell_type": "code",
   "execution_count": 13,
   "metadata": {},
   "outputs": [
    {
     "name": "stderr",
     "output_type": "stream",
     "text": [
      "/var/folders/xd/803273k91_n5dssbxvjg5m0h0000gr/T/ipykernel_5013/3624479990.py:3: ImplicitModificationWarning: Trying to modify attribute `.obs` of view, initializing view as actual.\n",
      "  adata_new.obs[\"guide_merged\"] = adata_new.obs[\"guide_identity\"]\n"
     ]
    }
   ],
   "source": [
    "# merge all controls\n",
    "\n",
    "adata_new.obs[\"guide_merged\"] = adata_new.obs[\"guide_identity\"]"
   ]
  },
  {
   "cell_type": "code",
   "execution_count": 14,
   "metadata": {},
   "outputs": [],
   "source": [
    "for i in np.unique(adata_new.obs[\"guide_merged\"]):\n",
    "   m = re.match(r\"NegCtrl(.*)_NegCtrl(.*)+NegCtrl(.*)_NegCtrl(.*)\", i)\n",
    "   if m :\n",
    "        adata_new.obs[\"guide_merged\"].replace(i,\"ctrl\",inplace=True)"
   ]
  },
  {
   "cell_type": "code",
   "execution_count": 15,
   "metadata": {},
   "outputs": [
    {
     "name": "stdout",
     "output_type": "stream",
     "text": [
      "old: HOXC13_NegCtrl0__HOXC13_NegCtrl0_2 new: HOXC13+ctrl\n",
      "old: TGFBR2_IGDCC3__TGFBR2_IGDCC3_2 new: TGFBR2+IGDCC3\n",
      "old: ZBTB10_NegCtrl0__ZBTB10_NegCtrl0_2 new: ZBTB10+ctrl\n"
     ]
    }
   ],
   "source": [
    "# relabeling\n",
    "\n",
    "old_pool = []\n",
    "for i in np.unique(adata_new.obs[\"guide_merged\"]):\n",
    "    if i == \"ctrl\":\n",
    "        old_pool.append(i)\n",
    "        continue\n",
    "    split = i.split(\"__\")[1]\n",
    "    split = split.split(\"_\")\n",
    "    for j, string in enumerate(split):\n",
    "        if \"NegCtrl\" in split[j]:\n",
    "            split[j] = \"ctrl\"\n",
    "    if len(split) == 1:\n",
    "        if split[0] in old_pool:\n",
    "            print(\"old:\",i, \"new:\",split[0])\n",
    "        adata_new.obs[\"guide_merged\"].replace(i,split[0],inplace=True)\n",
    "        old_pool.append(split[0])\n",
    "    else:\n",
    "        if f\"{split[0]}+{split[1]}\" in old_pool:\n",
    "            print(\"old:\",i, \"new:\",f\"{split[0]}+{split[1]}\")\n",
    "        adata_new.obs[\"guide_merged\"].replace(i, f\"{split[0]}+{split[1]}\",inplace=True)\n",
    "        old_pool.append(f\"{split[0]}+{split[1]}\")"
   ]
  },
  {
   "cell_type": "code",
   "execution_count": 16,
   "metadata": {},
   "outputs": [
    {
     "data": {
      "text/plain": [
       "index\n",
       "TGCGGGTTCTAGAGTC-5-0-0     FOXL2+MEIS1\n",
       "TTCCCAGGTTCAACCA-7-0-0       ctrl+PRTG\n",
       "ATTGGTGTCTGTCTAT-6-0-0      CNN1+MAPK1\n",
       "TGGCTGGAGACAAGCC-3-0-0      DUSP9+PRTG\n",
       "CCCAGTTCATCCTTGC-6-0-0    DUSP9+IGDCC3\n",
       "                              ...     \n",
       "CAAGGCCCAGCTTCGG-2-1-1            ctrl\n",
       "GCGCAGTAGGAATCGC-1-1-1            ctrl\n",
       "GGGATGACAGGTGGAT-1-1-1            ctrl\n",
       "CGTTCTGCACCCATGG-4-1-1            ctrl\n",
       "TGACGGCCAAACAACA-6-1-1            ctrl\n",
       "Name: guide_merged, Length: 108497, dtype: category\n",
       "Categories (284, object): ['AHR+FEV', 'AHR+KLF1', 'AHR+ctrl', 'ARID1A+ctrl', ..., 'ZC3HAV1+HOXC13', 'ZC3HAV1+ctrl', 'ZNF318+FOXL2', 'ZNF318+ctrl']"
      ]
     },
     "execution_count": 16,
     "metadata": {},
     "output_type": "execute_result"
    }
   ],
   "source": [
    "adata_new.obs[\"guide_merged\"]"
   ]
  },
  {
   "cell_type": "markdown",
   "metadata": {},
   "source": [
    "# preprocessing "
   ]
  },
  {
   "cell_type": "markdown",
   "metadata": {},
   "source": [
    "Keep the count data in a counts layer"
   ]
  },
  {
   "cell_type": "code",
   "execution_count": 29,
   "metadata": {},
   "outputs": [
    {
     "data": {
      "text/plain": [
       "array([0.       , 0.       , 0.       , 0.       , 0.       , 0.       ,\n",
       "       0.       , 1.4604237, 0.       , 1.4604237, 0.       , 0.       ,\n",
       "       0.       , 0.       , 0.       , 0.       , 0.       , 0.       ,\n",
       "       0.       , 0.       , 0.       , 2.0301948, 0.       , 0.       ,\n",
       "       0.       , 0.       , 0.       , 0.       , 0.       , 0.       ,\n",
       "       0.       , 0.       , 0.       , 0.       , 0.       , 0.       ,\n",
       "       0.       , 0.       , 0.       , 0.       , 0.       , 0.       ,\n",
       "       0.       , 0.       , 0.       , 0.       , 0.       , 0.       ,\n",
       "       0.       , 0.       , 0.       , 0.       , 0.       , 0.       ,\n",
       "       0.       , 0.       , 0.       , 0.       , 0.       , 0.       ,\n",
       "       0.       , 0.       , 0.       , 0.       , 1.4604237, 0.       ,\n",
       "       0.       , 0.       , 0.       , 0.       , 0.       , 0.       ,\n",
       "       0.       , 0.       , 0.       , 0.       , 0.       , 0.       ,\n",
       "       0.       , 0.       , 0.       , 0.       , 0.       , 0.       ,\n",
       "       0.       , 0.       , 0.       , 0.       , 0.       , 3.5286474,\n",
       "       3.3128133, 4.6714177, 4.6714177, 3.6212864, 4.7881603, 0.       ,\n",
       "       3.9875858, 0.       , 3.037196 , 0.       ], dtype=float32)"
      ]
     },
     "execution_count": 29,
     "metadata": {},
     "output_type": "execute_result"
    }
   ],
   "source": [
    "adata_new.layers[\"counts\"] = adata_new.X.copy()\n",
    "adata_new.layers[\"counts\"][0].toarray()[0][-100:]"
   ]
  },
  {
   "cell_type": "markdown",
   "metadata": {},
   "source": [
    "Normalization and HVG selection"
   ]
  },
  {
   "cell_type": "code",
   "execution_count": 37,
   "metadata": {},
   "outputs": [
    {
     "name": "stdout",
     "output_type": "stream",
     "text": [
      "normalizing counts per cell\n",
      "    finished (0:00:00)\n",
      "WARNING: adata.X seems to be already log-transformed.\n",
      "If you pass `n_top_genes`, all cutoffs are ignored.\n",
      "extracting highly variable genes\n",
      "    finished (0:00:00)\n",
      "--> added\n",
      "    'highly_variable', boolean vector (adata.var)\n",
      "    'means', float vector (adata.var)\n",
      "    'dispersions', float vector (adata.var)\n",
      "    'dispersions_norm', float vector (adata.var)\n"
     ]
    }
   ],
   "source": [
    "sc.pp.normalize_total(adata_new)\n",
    "sc.pp.log1p(adata_new)\n",
    "sc.pp.highly_variable_genes(adata_new,n_top_genes=5000, subset=True)"
   ]
  },
  {
   "cell_type": "code",
   "execution_count": 40,
   "metadata": {},
   "outputs": [
    {
     "data": {
      "text/plain": [
       "AnnData object with n_obs × n_vars = 108497 × 5000\n",
       "    obs: 'guide_identity', 'read_count', 'UMI_count', 'gemgroup', 'good_coverage', 'number_of_cells', 'guide_ids', 'guide_merged'\n",
       "    var: 'gene_symbols', 'highly_variable', 'means', 'dispersions', 'dispersions_norm'\n",
       "    uns: 'log1p', 'hvg'\n",
       "    layers: 'counts'"
      ]
     },
     "execution_count": 40,
     "metadata": {},
     "output_type": "execute_result"
    }
   ],
   "source": [
    "adata_new"
   ]
  },
  {
   "cell_type": "markdown",
   "metadata": {},
   "source": [
    "# Prepare for the model"
   ]
  },
  {
   "cell_type": "code",
   "execution_count": 43,
   "metadata": {},
   "outputs": [],
   "source": [
    "adata_new.obs['dose_val'] = 'nan'"
   ]
  },
  {
   "cell_type": "code",
   "execution_count": 44,
   "metadata": {},
   "outputs": [
    {
     "name": "stderr",
     "output_type": "stream",
     "text": [
      "/var/folders/xd/803273k91_n5dssbxvjg5m0h0000gr/T/ipykernel_5013/1292232737.py:1: SettingWithCopyWarning: \n",
      "A value is trying to be set on a copy of a slice from a DataFrame\n",
      "\n",
      "See the caveats in the documentation: https://pandas.pydata.org/pandas-docs/stable/user_guide/indexing.html#returning-a-view-versus-a-copy\n",
      "  adata_new.obs['dose_val'].loc[\n",
      "/var/folders/xd/803273k91_n5dssbxvjg5m0h0000gr/T/ipykernel_5013/1292232737.py:5: SettingWithCopyWarning: \n",
      "A value is trying to be set on a copy of a slice from a DataFrame\n",
      "\n",
      "See the caveats in the documentation: https://pandas.pydata.org/pandas-docs/stable/user_guide/indexing.html#returning-a-view-versus-a-copy\n",
      "  adata_new.obs['dose_val'].loc[\n"
     ]
    }
   ],
   "source": [
    "adata_new.obs['dose_val'].loc[\n",
    "    adata_new.obs['guide_merged']==\"ctrl\"\n",
    "] = '1'\n",
    "\n",
    "adata_new.obs['dose_val'].loc[\n",
    "    adata_new.obs['guide_merged']!=\"ctrl\"\n",
    "] = \"1+1\""
   ]
  },
  {
   "cell_type": "code",
   "execution_count": 45,
   "metadata": {},
   "outputs": [],
   "source": [
    "adata_new.obs[\"condition\"] = adata_new.obs[\"guide_merged\"]\n",
    "adata_new.obs['cell_type'] = 'A549'\n",
    "adata_new.obs['control'] = [1 if x == 'ctrl' else 0 for x in adata_new.obs.condition.values]"
   ]
  },
  {
   "cell_type": "code",
   "execution_count": 46,
   "metadata": {},
   "outputs": [],
   "source": [
    "adata_new.obs['drug_dose_name'] = adata_new.obs.condition.astype(str) + '_' + adata_new.obs.dose_val.astype(str)"
   ]
  },
  {
   "cell_type": "code",
   "execution_count": 47,
   "metadata": {},
   "outputs": [],
   "source": [
    "adata_new.obs['cov_drug_dose_name'] = adata_new.obs.cell_type.astype(str) + '_' + adata_new.obs.drug_dose_name.astype(str)"
   ]
  },
  {
   "cell_type": "code",
   "execution_count": 48,
   "metadata": {},
   "outputs": [
    {
     "data": {
      "text/html": [
       "<div>\n",
       "<style scoped>\n",
       "    .dataframe tbody tr th:only-of-type {\n",
       "        vertical-align: middle;\n",
       "    }\n",
       "\n",
       "    .dataframe tbody tr th {\n",
       "        vertical-align: top;\n",
       "    }\n",
       "\n",
       "    .dataframe thead th {\n",
       "        text-align: right;\n",
       "    }\n",
       "</style>\n",
       "<table border=\"1\" class=\"dataframe\">\n",
       "  <thead>\n",
       "    <tr style=\"text-align: right;\">\n",
       "      <th></th>\n",
       "      <th>guide_identity</th>\n",
       "      <th>read_count</th>\n",
       "      <th>UMI_count</th>\n",
       "      <th>gemgroup</th>\n",
       "      <th>good_coverage</th>\n",
       "      <th>number_of_cells</th>\n",
       "      <th>guide_ids</th>\n",
       "      <th>guide_merged</th>\n",
       "      <th>dose_val</th>\n",
       "      <th>condition</th>\n",
       "      <th>cell_type</th>\n",
       "      <th>control</th>\n",
       "      <th>drug_dose_name</th>\n",
       "      <th>cov_drug_dose_name</th>\n",
       "    </tr>\n",
       "    <tr>\n",
       "      <th>index</th>\n",
       "      <th></th>\n",
       "      <th></th>\n",
       "      <th></th>\n",
       "      <th></th>\n",
       "      <th></th>\n",
       "      <th></th>\n",
       "      <th></th>\n",
       "      <th></th>\n",
       "      <th></th>\n",
       "      <th></th>\n",
       "      <th></th>\n",
       "      <th></th>\n",
       "      <th></th>\n",
       "      <th></th>\n",
       "    </tr>\n",
       "  </thead>\n",
       "  <tbody>\n",
       "    <tr>\n",
       "      <th>TGCGGGTTCTAGAGTC-5-0-0</th>\n",
       "      <td>FOXL2_MEIS1__FOXL2_MEIS1</td>\n",
       "      <td>960</td>\n",
       "      <td>36</td>\n",
       "      <td>5</td>\n",
       "      <td>True</td>\n",
       "      <td>1</td>\n",
       "      <td>FOXL2,MEIS1</td>\n",
       "      <td>FOXL2+MEIS1</td>\n",
       "      <td>1+1</td>\n",
       "      <td>FOXL2+MEIS1</td>\n",
       "      <td>A549</td>\n",
       "      <td>0</td>\n",
       "      <td>FOXL2+MEIS1_1+1</td>\n",
       "      <td>A549_FOXL2+MEIS1_1+1</td>\n",
       "    </tr>\n",
       "    <tr>\n",
       "      <th>TTCCCAGGTTCAACCA-7-0-0</th>\n",
       "      <td>NegCtrl0_PRTG__NegCtrl0_PRTG</td>\n",
       "      <td>2069</td>\n",
       "      <td>109</td>\n",
       "      <td>7</td>\n",
       "      <td>True</td>\n",
       "      <td>1</td>\n",
       "      <td>PRTG</td>\n",
       "      <td>ctrl+PRTG</td>\n",
       "      <td>1+1</td>\n",
       "      <td>ctrl+PRTG</td>\n",
       "      <td>A549</td>\n",
       "      <td>0</td>\n",
       "      <td>ctrl+PRTG_1+1</td>\n",
       "      <td>A549_ctrl+PRTG_1+1</td>\n",
       "    </tr>\n",
       "    <tr>\n",
       "      <th>ATTGGTGTCTGTCTAT-6-0-0</th>\n",
       "      <td>CNN1_MAPK1__CNN1_MAPK1</td>\n",
       "      <td>1850</td>\n",
       "      <td>95</td>\n",
       "      <td>6</td>\n",
       "      <td>True</td>\n",
       "      <td>1</td>\n",
       "      <td>CNN1,MAPK1</td>\n",
       "      <td>CNN1+MAPK1</td>\n",
       "      <td>1+1</td>\n",
       "      <td>CNN1+MAPK1</td>\n",
       "      <td>A549</td>\n",
       "      <td>0</td>\n",
       "      <td>CNN1+MAPK1_1+1</td>\n",
       "      <td>A549_CNN1+MAPK1_1+1</td>\n",
       "    </tr>\n",
       "    <tr>\n",
       "      <th>TGGCTGGAGACAAGCC-3-0-0</th>\n",
       "      <td>DUSP9_PRTG__DUSP9_PRTG</td>\n",
       "      <td>1385</td>\n",
       "      <td>65</td>\n",
       "      <td>3</td>\n",
       "      <td>True</td>\n",
       "      <td>1</td>\n",
       "      <td>DUSP9,PRTG</td>\n",
       "      <td>DUSP9+PRTG</td>\n",
       "      <td>1+1</td>\n",
       "      <td>DUSP9+PRTG</td>\n",
       "      <td>A549</td>\n",
       "      <td>0</td>\n",
       "      <td>DUSP9+PRTG_1+1</td>\n",
       "      <td>A549_DUSP9+PRTG_1+1</td>\n",
       "    </tr>\n",
       "    <tr>\n",
       "      <th>CCCAGTTCATCCTTGC-6-0-0</th>\n",
       "      <td>DUSP9_IGDCC3__DUSP9_IGDCC3</td>\n",
       "      <td>493</td>\n",
       "      <td>21</td>\n",
       "      <td>6</td>\n",
       "      <td>True</td>\n",
       "      <td>1</td>\n",
       "      <td>DUSP9,IGDCC3</td>\n",
       "      <td>DUSP9+IGDCC3</td>\n",
       "      <td>1+1</td>\n",
       "      <td>DUSP9+IGDCC3</td>\n",
       "      <td>A549</td>\n",
       "      <td>0</td>\n",
       "      <td>DUSP9+IGDCC3_1+1</td>\n",
       "      <td>A549_DUSP9+IGDCC3_1+1</td>\n",
       "    </tr>\n",
       "    <tr>\n",
       "      <th>...</th>\n",
       "      <td>...</td>\n",
       "      <td>...</td>\n",
       "      <td>...</td>\n",
       "      <td>...</td>\n",
       "      <td>...</td>\n",
       "      <td>...</td>\n",
       "      <td>...</td>\n",
       "      <td>...</td>\n",
       "      <td>...</td>\n",
       "      <td>...</td>\n",
       "      <td>...</td>\n",
       "      <td>...</td>\n",
       "      <td>...</td>\n",
       "      <td>...</td>\n",
       "    </tr>\n",
       "    <tr>\n",
       "      <th>CAAGGCCCAGCTTCGG-2-1-1</th>\n",
       "      <td>NegCtrl10_NegCtrl0__NegCtrl10_NegCtrl0</td>\n",
       "      <td>2333</td>\n",
       "      <td>137</td>\n",
       "      <td>2</td>\n",
       "      <td>True</td>\n",
       "      <td>1</td>\n",
       "      <td></td>\n",
       "      <td>ctrl</td>\n",
       "      <td>1</td>\n",
       "      <td>ctrl</td>\n",
       "      <td>A549</td>\n",
       "      <td>1</td>\n",
       "      <td>ctrl_1</td>\n",
       "      <td>A549_ctrl_1</td>\n",
       "    </tr>\n",
       "    <tr>\n",
       "      <th>GCGCAGTAGGAATCGC-1-1-1</th>\n",
       "      <td>NegCtrl0_NegCtrl0__NegCtrl0_NegCtrl0</td>\n",
       "      <td>1924</td>\n",
       "      <td>96</td>\n",
       "      <td>1</td>\n",
       "      <td>True</td>\n",
       "      <td>1</td>\n",
       "      <td></td>\n",
       "      <td>ctrl</td>\n",
       "      <td>1</td>\n",
       "      <td>ctrl</td>\n",
       "      <td>A549</td>\n",
       "      <td>1</td>\n",
       "      <td>ctrl_1</td>\n",
       "      <td>A549_ctrl_1</td>\n",
       "    </tr>\n",
       "    <tr>\n",
       "      <th>GGGATGACAGGTGGAT-1-1-1</th>\n",
       "      <td>NegCtrl11_NegCtrl0__NegCtrl11_NegCtrl0</td>\n",
       "      <td>178</td>\n",
       "      <td>11</td>\n",
       "      <td>1</td>\n",
       "      <td>True</td>\n",
       "      <td>1</td>\n",
       "      <td></td>\n",
       "      <td>ctrl</td>\n",
       "      <td>1</td>\n",
       "      <td>ctrl</td>\n",
       "      <td>A549</td>\n",
       "      <td>1</td>\n",
       "      <td>ctrl_1</td>\n",
       "      <td>A549_ctrl_1</td>\n",
       "    </tr>\n",
       "    <tr>\n",
       "      <th>CGTTCTGCACCCATGG-4-1-1</th>\n",
       "      <td>NegCtrl11_NegCtrl0__NegCtrl11_NegCtrl0</td>\n",
       "      <td>1312</td>\n",
       "      <td>62</td>\n",
       "      <td>4</td>\n",
       "      <td>True</td>\n",
       "      <td>1</td>\n",
       "      <td></td>\n",
       "      <td>ctrl</td>\n",
       "      <td>1</td>\n",
       "      <td>ctrl</td>\n",
       "      <td>A549</td>\n",
       "      <td>1</td>\n",
       "      <td>ctrl_1</td>\n",
       "      <td>A549_ctrl_1</td>\n",
       "    </tr>\n",
       "    <tr>\n",
       "      <th>TGACGGCCAAACAACA-6-1-1</th>\n",
       "      <td>NegCtrl10_NegCtrl0__NegCtrl10_NegCtrl0</td>\n",
       "      <td>1639</td>\n",
       "      <td>82</td>\n",
       "      <td>6</td>\n",
       "      <td>True</td>\n",
       "      <td>2</td>\n",
       "      <td></td>\n",
       "      <td>ctrl</td>\n",
       "      <td>1</td>\n",
       "      <td>ctrl</td>\n",
       "      <td>A549</td>\n",
       "      <td>1</td>\n",
       "      <td>ctrl_1</td>\n",
       "      <td>A549_ctrl_1</td>\n",
       "    </tr>\n",
       "  </tbody>\n",
       "</table>\n",
       "<p>108497 rows × 14 columns</p>\n",
       "</div>"
      ],
      "text/plain": [
       "                                                guide_identity  read_count  \\\n",
       "index                                                                        \n",
       "TGCGGGTTCTAGAGTC-5-0-0                FOXL2_MEIS1__FOXL2_MEIS1         960   \n",
       "TTCCCAGGTTCAACCA-7-0-0            NegCtrl0_PRTG__NegCtrl0_PRTG        2069   \n",
       "ATTGGTGTCTGTCTAT-6-0-0                  CNN1_MAPK1__CNN1_MAPK1        1850   \n",
       "TGGCTGGAGACAAGCC-3-0-0                  DUSP9_PRTG__DUSP9_PRTG        1385   \n",
       "CCCAGTTCATCCTTGC-6-0-0              DUSP9_IGDCC3__DUSP9_IGDCC3         493   \n",
       "...                                                        ...         ...   \n",
       "CAAGGCCCAGCTTCGG-2-1-1  NegCtrl10_NegCtrl0__NegCtrl10_NegCtrl0        2333   \n",
       "GCGCAGTAGGAATCGC-1-1-1    NegCtrl0_NegCtrl0__NegCtrl0_NegCtrl0        1924   \n",
       "GGGATGACAGGTGGAT-1-1-1  NegCtrl11_NegCtrl0__NegCtrl11_NegCtrl0         178   \n",
       "CGTTCTGCACCCATGG-4-1-1  NegCtrl11_NegCtrl0__NegCtrl11_NegCtrl0        1312   \n",
       "TGACGGCCAAACAACA-6-1-1  NegCtrl10_NegCtrl0__NegCtrl10_NegCtrl0        1639   \n",
       "\n",
       "                        UMI_count  gemgroup  good_coverage  number_of_cells  \\\n",
       "index                                                                         \n",
       "TGCGGGTTCTAGAGTC-5-0-0         36         5           True                1   \n",
       "TTCCCAGGTTCAACCA-7-0-0        109         7           True                1   \n",
       "ATTGGTGTCTGTCTAT-6-0-0         95         6           True                1   \n",
       "TGGCTGGAGACAAGCC-3-0-0         65         3           True                1   \n",
       "CCCAGTTCATCCTTGC-6-0-0         21         6           True                1   \n",
       "...                           ...       ...            ...              ...   \n",
       "CAAGGCCCAGCTTCGG-2-1-1        137         2           True                1   \n",
       "GCGCAGTAGGAATCGC-1-1-1         96         1           True                1   \n",
       "GGGATGACAGGTGGAT-1-1-1         11         1           True                1   \n",
       "CGTTCTGCACCCATGG-4-1-1         62         4           True                1   \n",
       "TGACGGCCAAACAACA-6-1-1         82         6           True                2   \n",
       "\n",
       "                           guide_ids  guide_merged dose_val     condition  \\\n",
       "index                                                                       \n",
       "TGCGGGTTCTAGAGTC-5-0-0   FOXL2,MEIS1   FOXL2+MEIS1      1+1   FOXL2+MEIS1   \n",
       "TTCCCAGGTTCAACCA-7-0-0          PRTG     ctrl+PRTG      1+1     ctrl+PRTG   \n",
       "ATTGGTGTCTGTCTAT-6-0-0    CNN1,MAPK1    CNN1+MAPK1      1+1    CNN1+MAPK1   \n",
       "TGGCTGGAGACAAGCC-3-0-0    DUSP9,PRTG    DUSP9+PRTG      1+1    DUSP9+PRTG   \n",
       "CCCAGTTCATCCTTGC-6-0-0  DUSP9,IGDCC3  DUSP9+IGDCC3      1+1  DUSP9+IGDCC3   \n",
       "...                              ...           ...      ...           ...   \n",
       "CAAGGCCCAGCTTCGG-2-1-1                        ctrl        1          ctrl   \n",
       "GCGCAGTAGGAATCGC-1-1-1                        ctrl        1          ctrl   \n",
       "GGGATGACAGGTGGAT-1-1-1                        ctrl        1          ctrl   \n",
       "CGTTCTGCACCCATGG-4-1-1                        ctrl        1          ctrl   \n",
       "TGACGGCCAAACAACA-6-1-1                        ctrl        1          ctrl   \n",
       "\n",
       "                       cell_type  control    drug_dose_name  \\\n",
       "index                                                         \n",
       "TGCGGGTTCTAGAGTC-5-0-0      A549        0   FOXL2+MEIS1_1+1   \n",
       "TTCCCAGGTTCAACCA-7-0-0      A549        0     ctrl+PRTG_1+1   \n",
       "ATTGGTGTCTGTCTAT-6-0-0      A549        0    CNN1+MAPK1_1+1   \n",
       "TGGCTGGAGACAAGCC-3-0-0      A549        0    DUSP9+PRTG_1+1   \n",
       "CCCAGTTCATCCTTGC-6-0-0      A549        0  DUSP9+IGDCC3_1+1   \n",
       "...                          ...      ...               ...   \n",
       "CAAGGCCCAGCTTCGG-2-1-1      A549        1            ctrl_1   \n",
       "GCGCAGTAGGAATCGC-1-1-1      A549        1            ctrl_1   \n",
       "GGGATGACAGGTGGAT-1-1-1      A549        1            ctrl_1   \n",
       "CGTTCTGCACCCATGG-4-1-1      A549        1            ctrl_1   \n",
       "TGACGGCCAAACAACA-6-1-1      A549        1            ctrl_1   \n",
       "\n",
       "                           cov_drug_dose_name  \n",
       "index                                          \n",
       "TGCGGGTTCTAGAGTC-5-0-0   A549_FOXL2+MEIS1_1+1  \n",
       "TTCCCAGGTTCAACCA-7-0-0     A549_ctrl+PRTG_1+1  \n",
       "ATTGGTGTCTGTCTAT-6-0-0    A549_CNN1+MAPK1_1+1  \n",
       "TGGCTGGAGACAAGCC-3-0-0    A549_DUSP9+PRTG_1+1  \n",
       "CCCAGTTCATCCTTGC-6-0-0  A549_DUSP9+IGDCC3_1+1  \n",
       "...                                       ...  \n",
       "CAAGGCCCAGCTTCGG-2-1-1            A549_ctrl_1  \n",
       "GCGCAGTAGGAATCGC-1-1-1            A549_ctrl_1  \n",
       "GGGATGACAGGTGGAT-1-1-1            A549_ctrl_1  \n",
       "CGTTCTGCACCCATGG-4-1-1            A549_ctrl_1  \n",
       "TGACGGCCAAACAACA-6-1-1            A549_ctrl_1  \n",
       "\n",
       "[108497 rows x 14 columns]"
      ]
     },
     "execution_count": 48,
     "metadata": {},
     "output_type": "execute_result"
    }
   ],
   "source": [
    "adata_new.obs"
   ]
  },
  {
   "cell_type": "markdown",
   "metadata": {},
   "source": [
    "DE test"
   ]
  },
  {
   "cell_type": "code",
   "execution_count": 92,
   "metadata": {},
   "outputs": [],
   "source": [
    "from cpa.helper import rank_genes_groups_by_cov"
   ]
  },
  {
   "cell_type": "code",
   "execution_count": 94,
   "metadata": {},
   "outputs": [
    {
     "name": "stderr",
     "output_type": "stream",
     "text": [
      "WARNING: Default of the method has been changed to 't-test' from 't-test_overestim_var'\n",
      "ranking genes\n",
      "Trying to set attribute `.obs` of view, copying.\n"
     ]
    },
    {
     "name": "stdout",
     "output_type": "stream",
     "text": [
      "A549\n"
     ]
    },
    {
     "name": "stderr",
     "output_type": "stream",
     "text": [
      "... storing 'split' as categorical\n",
      "Trying to set attribute `.obs` of view, copying.\n",
      "... storing 'dose_val' as categorical\n",
      "Trying to set attribute `.obs` of view, copying.\n",
      "... storing 'cell_type' as categorical\n",
      "Trying to set attribute `.obs` of view, copying.\n",
      "... storing 'drug_dose_name' as categorical\n",
      "Trying to set attribute `.obs` of view, copying.\n",
      "... storing 'cov_drug_dose_name' as categorical\n",
      "    finished: added to `.uns['rank_genes_groups']`\n",
      "    'names', sorted np.recarray to be indexed by group ids\n",
      "    'scores', sorted np.recarray to be indexed by group ids\n",
      "    'logfoldchanges', sorted np.recarray to be indexed by group ids\n",
      "    'pvals', sorted np.recarray to be indexed by group ids\n",
      "    'pvals_adj', sorted np.recarray to be indexed by group ids (0:00:02)\n"
     ]
    }
   ],
   "source": [
    "rank_genes_groups_by_cov(adata_new, groupby='cov_drug_dose_name', covariate='cell_type', control_group='ctrl_1', n_genes=20)"
   ]
  },
  {
   "cell_type": "markdown",
   "metadata": {},
   "source": [
    "saving to new object"
   ]
  },
  {
   "cell_type": "code",
   "execution_count": 126,
   "metadata": {},
   "outputs": [],
   "source": [
    "to_pick = adata_new.obs[[\"cov_drug_dose_name\",\"dose_val\",\"control\",\"condition\",\"split\",\"guide_identity\",\"drug_dose_name\",\"cell_type\"]]"
   ]
  },
  {
   "cell_type": "code",
   "execution_count": 127,
   "metadata": {},
   "outputs": [],
   "source": [
    "adata_new_small = sc.AnnData(adata_new.X, obs=to_pick,\n",
    "                             var=adata_new.var, uns=adata_new.uns)"
   ]
  },
  {
   "cell_type": "code",
   "execution_count": 132,
   "metadata": {},
   "outputs": [],
   "source": [
    "adata_new_small.layers = adata_new.layers"
   ]
  },
  {
   "cell_type": "markdown",
   "metadata": {},
   "source": [
    "# splits"
   ]
  },
  {
   "cell_type": "markdown",
   "metadata": {},
   "source": [
    "visualization split "
   ]
  },
  {
   "cell_type": "code",
   "execution_count": 311,
   "metadata": {},
   "outputs": [
    {
     "name": "stderr",
     "output_type": "stream",
     "text": [
      "/home/mohammad/anaconda3/envs/scvi-env/lib/python3.7/site-packages/pandas/core/indexing.py:670: SettingWithCopyWarning: \n",
      "A value is trying to be set on a copy of a slice from a DataFrame\n",
      "\n",
      "See the caveats in the documentation: https://pandas.pydata.org/pandas-docs/stable/user_guide/indexing.html#returning-a-view-versus-a-copy\n",
      "  iloc._setitem_with_indexer(indexer, value)\n"
     ]
    },
    {
     "data": {
      "text/plain": [
       "split\n",
       "ood          2\n",
       "test     10848\n",
       "train    97647\n",
       "dtype: int64"
      ]
     },
     "execution_count": 311,
     "metadata": {},
     "output_type": "execute_result"
    }
   ],
   "source": [
    "ood_set = []\n",
    "adata_new_small.obs['split'] = 'nan'\n",
    "adata_idx = adata_new_small.obs_names\n",
    "adata_idx_train, adata_idx_test = train_test_split(adata_idx, test_size=0.1, random_state=42)\n",
    "adata_idx_test, adata_idx_ood = train_test_split(adata_idx_test, test_size=0.0001, random_state=42)\n",
    "adata_idx = adata_new_small.obs_names[adata_new_small.obs.split!='ood']\n",
    "adata_new_small.obs['split'].loc[adata_idx_train] = 'train'\n",
    "adata_new_small.obs['split'].loc[adata_idx_test] = 'test'\n",
    "adata_new_small.obs['split'].loc[adata_idx_ood] = 'ood'\n",
    "adata_new_small.obs.groupby('split').size()"
   ]
  },
  {
   "cell_type": "markdown",
   "metadata": {},
   "source": [
    "First ood set"
   ]
  },
  {
   "cell_type": "code",
   "execution_count": 270,
   "metadata": {},
   "outputs": [
    {
     "data": {
      "text/plain": [
       "split1\n",
       "ood       1884\n",
       "test     21323\n",
       "train    85290\n",
       "dtype: int64"
      ]
     },
     "execution_count": 270,
     "metadata": {},
     "output_type": "execute_result"
    }
   ],
   "source": [
    "ood_set = ['DUSP9+MAPK1',\n",
    " 'ETS2+MAPK1',\n",
    " 'DUSP9+ETS2',\n",
    " 'CBL+CNN1',\n",
    " 'MAPK1+DUSP9',\n",
    " 'MAPK1+ETS2',\n",
    " 'ETS2+DUSP9',\n",
    " 'CNN1+CBL']\n",
    "adata_new_small.obs['split1'] = 'nan'\n",
    "adata_new_small.obs['split1'].loc[\n",
    "    adata_new_small.obs['condition'].isin(ood_set)\n",
    "] = 'ood'\n",
    "adata_idx = adata_new_small.obs_names[adata_new_small.obs.split1!='ood']\n",
    "adata_idx_train, adata_idx_test = train_test_split(adata_idx, test_size=0.2, random_state=42)\n",
    "adata_new_small.obs['split1'].loc[adata_idx_train] = 'train'\n",
    "adata_new_small.obs['split1'].loc[adata_idx_test] = 'test'\n",
    "adata_new_small.obs.groupby('split1').size()"
   ]
  },
  {
   "cell_type": "code",
   "execution_count": 271,
   "metadata": {},
   "outputs": [],
   "source": [
    "condition_key = \"condition\""
   ]
  },
  {
   "cell_type": "markdown",
   "metadata": {},
   "source": [
    "split for leave one 10 out and predict"
   ]
  },
  {
   "cell_type": "code",
   "execution_count": 272,
   "metadata": {},
   "outputs": [],
   "source": [
    "double_ko_list = [i for i in adata_new_small.obs[condition_key].unique() if \"ctrl\" not in i]\n",
    "single = [i for i in adata_new_small.obs[condition_key].unique() if \"ctrl\" in i]\n",
    "np.random.shuffle(double_ko_list)\n",
    "\n",
    "#drug split into splits of 10\n",
    "ood_list = []\n",
    "i = 0\n",
    "while(i<len(double_ko_list)):\n",
    "    ood_list.append(double_ko_list[i:min(i+10,len(double_ko_list))])\n",
    "    i+=10\n",
    "ood_list[len(ood_list)-2] = ood_list[len(ood_list)-2] + ood_list[len(ood_list)-1]\n",
    "del(ood_list[len(ood_list)-1])"
   ]
  },
  {
   "cell_type": "code",
   "execution_count": 273,
   "metadata": {},
   "outputs": [
    {
     "name": "stdout",
     "output_type": "stream",
     "text": [
      "['PTPN12+OSR2', 'DUSP9+PRTG', 'POU3F2+FOXL2', 'UBASH3B+CNN1', 'MAP2K6+SPI1', 'SAMD1+PTPN12', 'MAPK1+TGFBR2', 'FOXF1+FOXL2', 'IGDCC3+PRTG', 'FOXA3+FOXL2'] 0\n",
      "['CEBPE+CEBPA', 'UBASH3B+ZBTB25', 'UBASH3B+PTPN9', 'BPGM+ZBTB1', 'KLF1+BAK1', 'SNAI1+DLX2', 'KIF18B+KIF2C', 'UBASH3B+UBASH3A', 'PLK4+STIL', 'SAMD1+UBASH3B'] 1\n",
      "['FOXA3+FOXA1', 'LYL1+IER5L', 'ETS2+IGDCC3', 'PTPN12+ZBTB25', 'MAP2K3+ELMSAN1', 'KLF1+MAP2K6', 'BCL2L11+TGFBR2', 'SET+CEBPE', 'ETS2+IKZF3', 'CBL+PTPN9'] 2\n",
      "['FOXA3+FOXF1', 'JUN+CEBPA', 'DUSP9+KLF1', 'CNN1+MAPK1', 'FOSB+PTPN12', 'ETS2+CNN1', 'UBASH3B+PTPN12', 'LHX1+ELMSAN1', 'ZC3HAV1+CEBPA', 'KLF1+CLDN6'] 3\n",
      "['FOSB+CEBPE', 'SET+KLF1', 'CBL+UBASH3A', 'AHR+KLF1', 'LYL1+CEBPB', 'RHOXF2+SET', 'IGDCC3+MAPK1', 'FOXA1+HOXB9', 'FEV+ISL2', 'C3orf72+FOXL2'] 4\n",
      "['CEBPE+RUNX1T1', 'MAP2K6+ELMSAN1', 'CEBPE+SPI1', 'CDKN1C+CDKN1A', 'TGFBR2+PRTG', 'BCL2L11+BAK1', 'KLF1+CEBPA', 'MAP2K3+SLC38A2', 'SNAI1+UBASH3B', 'FOSB+OSR2'] 5\n",
      "['KLF1+COL2A1', 'CDKN1B+CDKN1A', 'CBL+UBASH3B', 'CEBPE+PTPN12', 'ZBTB10+PTPN12', 'CEBPE+CNN1', 'MAP2K3+MAP2K6', 'FOXA1+FOXF1', 'PRDM1+CBFA2T3', 'DUSP9+ETS2'] 6\n",
      "['KLF1+FOXA1', 'TGFBR2+C19orf26', 'FOXL2+HOXB9', 'CBL+CNN1', 'SGK1+S1PR2', 'FOSB+UBASH3B', 'CEBPE+CEBPB', 'FOSB+CEBPB', 'CEBPB+MAPK1', 'RHOXF2+ZBTB25'] 7\n",
      "['DUSP9+MAPK1', 'CEBPB+CEBPA', 'BPGM+SAMD1', 'MAP2K3+IKZF3', 'PTPN12+UBASH3A', 'IGDCC3+ZBTB25', 'TMSB4X+BAK1', 'PTPN12+PTPN9', 'ZBTB10+SNAI1', 'KLF1+TGFBR2'] 8\n",
      "['FOXF1+HOXB9', 'SAMD1+TGFBR2', 'DUSP9+SNAI1', 'ZBTB10+ELMSAN1', 'FOXL2+MEIS1', 'SGK1+TBX3', 'FOXA1+FOXL2', 'TBX3+TBX2', 'AHR+FEV', 'POU3F2+CBFA2T3'] 9\n",
      "['ETS2+MAP7D1', 'ETS2+PRTG', 'CEBPB+OSR2', 'MAPK1+PRTG', 'CBL+PTPN12', 'DUSP9+IGDCC3', 'ZC3HAV1+CEBPE', 'JUN+CEBPB', 'SGK1+TBX2', 'TGFBR2+ETS2'] 10\n",
      "['ZC3HAV1+HOXC13', 'FOSB+IKZF3', 'MAPK1+IKZF3', 'CEBPB+PTPN12', 'PTPN12+SNAI1', 'CEBPE+KLF1', 'MAP2K6+IKZF3', 'ZNF318+FOXL2', 'SAMD1+ZBTB1', 'UBASH3B+OSR2'] 11\n",
      "['FEV+CBFA2T3', 'CDKN1C+CDKN1B', 'TGFBR2+IGDCC3', 'CBL+TGFBR2', 'ZBTB10+DLX2', 'IRF1+SET', 'ETS2+CEBPE', 'ETS2+MAPK1', 'CNN1+UBASH3A', 'FOXA3+HOXB9', 'FEV+MAP7D1'] 12\n"
     ]
    }
   ],
   "source": [
    "for idx, splits in enumerate(ood_list):\n",
    "    ood_set = splits\n",
    "    print(splits, idx)\n",
    "    adata_new_small.obs[f'split{idx+2}'] = 'nan'\n",
    "    adata_new_small.obs[f'split{idx+2}'].loc[\n",
    "        adata_new_small.obs['condition'].isin(ood_set)\n",
    "    ] = 'ood'\n",
    "    adata_idx = adata_new_small.obs_names[adata_new_small.obs[f'split{idx+2}']!='ood']\n",
    "    adata_idx_train, adata_idx_test = train_test_split(adata_idx, test_size=0.2, random_state=42)\n",
    "    adata_new_small.obs[f'split{idx+2}'].loc[adata_idx_train] = 'train'\n",
    "    adata_new_small.obs[f'split{idx+2}'].loc[adata_idx_test] = 'test'\n",
    "    adata_new_small.obs.groupby(f'split{idx+2}').size()"
   ]
  },
  {
   "cell_type": "code",
   "execution_count": 274,
   "metadata": {},
   "outputs": [
    {
     "data": {
      "text/plain": [
       "AnnData object with n_obs × n_vars = 108497 × 5000\n",
       "    obs: 'cov_drug_dose_name', 'dose_val', 'control', 'condition', 'guide_identity', 'drug_dose_name', 'cell_type', 'split', 'split1', 'split2', 'split3', 'split4', 'split5', 'split6', 'split7', 'split8', 'split9', 'split10', 'split11', 'split12', 'split13', 'split14'\n",
       "    var: 'gene_symbols', 'highly_variable', 'means', 'dispersions', 'dispersions_norm'\n",
       "    uns: 'log1p', 'hvg', 'rank_genes_groups_cov'\n",
       "    layers: 'counts'"
      ]
     },
     "execution_count": 274,
     "metadata": {},
     "output_type": "execute_result"
    }
   ],
   "source": [
    "adata_new_small"
   ]
  },
  {
   "cell_type": "markdown",
   "metadata": {},
   "source": [
    "robustness split"
   ]
  },
  {
   "cell_type": "code",
   "execution_count": 275,
   "metadata": {},
   "outputs": [
    {
     "name": "stdout",
     "output_type": "stream",
     "text": [
      "120\n",
      "100\n",
      "80\n",
      "60\n",
      "40\n",
      "20\n"
     ]
    }
   ],
   "source": [
    "double_ko_list = [i for i in adata_new_small.obs[condition_key].unique() if \"ctrl\" not in i]\n",
    "single = [i for i in adata_new_small.obs[condition_key].unique() if \"ctrl\" in i]\n",
    "np.random.shuffle(double_ko_list)\n",
    "\n",
    "#split into splits of 10\n",
    "ood_list = []\n",
    "i = 120\n",
    "while(i>10):\n",
    "    ood_list.append(double_ko_list[0:min(i,len(double_ko_list))])\n",
    "    print(i)\n",
    "    i-= 20"
   ]
  },
  {
   "cell_type": "code",
   "execution_count": 276,
   "metadata": {},
   "outputs": [
    {
     "name": "stdout",
     "output_type": "stream",
     "text": [
      "['TMSB4X+BAK1', 'BPGM+SAMD1', 'TBX3+TBX2', 'CDKN1C+CDKN1B', 'SAMD1+UBASH3B', 'CEBPB+CEBPA', 'CBL+PTPN12', 'DUSP9+ETS2', 'CEBPE+CNN1', 'PTPN12+OSR2', 'KLF1+MAP2K6', 'FOXA3+HOXB9', 'UBASH3B+CNN1', 'FOSB+CEBPB', 'MAP2K6+ELMSAN1', 'CEBPB+PTPN12', 'DUSP9+IGDCC3', 'SAMD1+ZBTB1', 'LYL1+IER5L', 'ZBTB10+SNAI1', 'FOXF1+HOXB9', 'IGDCC3+MAPK1', 'MAP2K6+IKZF3', 'MAPK1+PRTG', 'FOXA3+FOXF1', 'RHOXF2+SET', 'SAMD1+PTPN12', 'MAPK1+IKZF3', 'PTPN12+ZBTB25', 'FEV+CBFA2T3', 'MAP2K6+SPI1', 'SNAI1+UBASH3B', 'CEBPE+PTPN12', 'BCL2L11+TGFBR2', 'ETS2+CEBPE', 'FEV+ISL2', 'JUN+CEBPB', 'ZNF318+FOXL2', 'TGFBR2+ETS2', 'LHX1+ELMSAN1', 'MAP2K3+ELMSAN1', 'FOSB+UBASH3B', 'SET+KLF1', 'FOSB+OSR2', 'PTPN12+SNAI1', 'CEBPE+CEBPA', 'ZBTB10+DLX2', 'DUSP9+SNAI1', 'ETS2+MAPK1', 'CEBPE+KLF1', 'CNN1+UBASH3A', 'ZBTB10+PTPN12', 'ZC3HAV1+CEBPE', 'MAPK1+TGFBR2', 'PRDM1+CBFA2T3', 'KLF1+BAK1', 'UBASH3B+PTPN12', 'ETS2+IKZF3', 'FOSB+PTPN12', 'UBASH3B+ZBTB25', 'TGFBR2+PRTG', 'FOXA3+FOXL2', 'ETS2+IGDCC3', 'KLF1+TGFBR2', 'CEBPB+OSR2', 'ZC3HAV1+HOXC13', 'ETS2+CNN1', 'UBASH3B+PTPN9', 'PTPN12+UBASH3A', 'ZC3HAV1+CEBPA', 'ETS2+MAP7D1', 'FOXA1+FOXL2', 'FEV+MAP7D1', 'FOXA1+FOXF1', 'KLF1+COL2A1', 'KIF18B+KIF2C', 'BPGM+ZBTB1', 'IGDCC3+PRTG', 'CBL+UBASH3A', 'KLF1+FOXA1', 'MAP2K3+SLC38A2', 'FOSB+CEBPE', 'POU3F2+CBFA2T3', 'UBASH3B+UBASH3A', 'DUSP9+MAPK1', 'CBL+CNN1', 'UBASH3B+OSR2', 'BCL2L11+BAK1', 'CEBPE+SPI1', 'CEBPE+CEBPB', 'SGK1+TBX2', 'FOXA1+HOXB9', 'CEBPB+MAPK1', 'SET+CEBPE', 'MAP2K3+MAP2K6', 'DUSP9+KLF1', 'AHR+FEV', 'MAP2K3+IKZF3', 'FOSB+IKZF3', 'CDKN1B+CDKN1A', 'CNN1+MAPK1', 'FOXL2+HOXB9', 'TGFBR2+C19orf26', 'AHR+KLF1', 'CEBPE+RUNX1T1', 'IRF1+SET', 'DUSP9+PRTG', 'FOXA3+FOXA1', 'POU3F2+FOXL2', 'TGFBR2+IGDCC3', 'KLF1+CLDN6', 'CDKN1C+CDKN1A', 'CBL+PTPN9', 'C3orf72+FOXL2', 'ETS2+PRTG', 'JUN+CEBPA', 'KLF1+CEBPA', 'SNAI1+DLX2', 'SGK1+S1PR2', 'IGDCC3+ZBTB25'] 0\n",
      "['TMSB4X+BAK1', 'BPGM+SAMD1', 'TBX3+TBX2', 'CDKN1C+CDKN1B', 'SAMD1+UBASH3B', 'CEBPB+CEBPA', 'CBL+PTPN12', 'DUSP9+ETS2', 'CEBPE+CNN1', 'PTPN12+OSR2', 'KLF1+MAP2K6', 'FOXA3+HOXB9', 'UBASH3B+CNN1', 'FOSB+CEBPB', 'MAP2K6+ELMSAN1', 'CEBPB+PTPN12', 'DUSP9+IGDCC3', 'SAMD1+ZBTB1', 'LYL1+IER5L', 'ZBTB10+SNAI1', 'FOXF1+HOXB9', 'IGDCC3+MAPK1', 'MAP2K6+IKZF3', 'MAPK1+PRTG', 'FOXA3+FOXF1', 'RHOXF2+SET', 'SAMD1+PTPN12', 'MAPK1+IKZF3', 'PTPN12+ZBTB25', 'FEV+CBFA2T3', 'MAP2K6+SPI1', 'SNAI1+UBASH3B', 'CEBPE+PTPN12', 'BCL2L11+TGFBR2', 'ETS2+CEBPE', 'FEV+ISL2', 'JUN+CEBPB', 'ZNF318+FOXL2', 'TGFBR2+ETS2', 'LHX1+ELMSAN1', 'MAP2K3+ELMSAN1', 'FOSB+UBASH3B', 'SET+KLF1', 'FOSB+OSR2', 'PTPN12+SNAI1', 'CEBPE+CEBPA', 'ZBTB10+DLX2', 'DUSP9+SNAI1', 'ETS2+MAPK1', 'CEBPE+KLF1', 'CNN1+UBASH3A', 'ZBTB10+PTPN12', 'ZC3HAV1+CEBPE', 'MAPK1+TGFBR2', 'PRDM1+CBFA2T3', 'KLF1+BAK1', 'UBASH3B+PTPN12', 'ETS2+IKZF3', 'FOSB+PTPN12', 'UBASH3B+ZBTB25', 'TGFBR2+PRTG', 'FOXA3+FOXL2', 'ETS2+IGDCC3', 'KLF1+TGFBR2', 'CEBPB+OSR2', 'ZC3HAV1+HOXC13', 'ETS2+CNN1', 'UBASH3B+PTPN9', 'PTPN12+UBASH3A', 'ZC3HAV1+CEBPA', 'ETS2+MAP7D1', 'FOXA1+FOXL2', 'FEV+MAP7D1', 'FOXA1+FOXF1', 'KLF1+COL2A1', 'KIF18B+KIF2C', 'BPGM+ZBTB1', 'IGDCC3+PRTG', 'CBL+UBASH3A', 'KLF1+FOXA1', 'MAP2K3+SLC38A2', 'FOSB+CEBPE', 'POU3F2+CBFA2T3', 'UBASH3B+UBASH3A', 'DUSP9+MAPK1', 'CBL+CNN1', 'UBASH3B+OSR2', 'BCL2L11+BAK1', 'CEBPE+SPI1', 'CEBPE+CEBPB', 'SGK1+TBX2', 'FOXA1+HOXB9', 'CEBPB+MAPK1', 'SET+CEBPE', 'MAP2K3+MAP2K6', 'DUSP9+KLF1', 'AHR+FEV', 'MAP2K3+IKZF3', 'FOSB+IKZF3', 'CDKN1B+CDKN1A'] 1\n",
      "['TMSB4X+BAK1', 'BPGM+SAMD1', 'TBX3+TBX2', 'CDKN1C+CDKN1B', 'SAMD1+UBASH3B', 'CEBPB+CEBPA', 'CBL+PTPN12', 'DUSP9+ETS2', 'CEBPE+CNN1', 'PTPN12+OSR2', 'KLF1+MAP2K6', 'FOXA3+HOXB9', 'UBASH3B+CNN1', 'FOSB+CEBPB', 'MAP2K6+ELMSAN1', 'CEBPB+PTPN12', 'DUSP9+IGDCC3', 'SAMD1+ZBTB1', 'LYL1+IER5L', 'ZBTB10+SNAI1', 'FOXF1+HOXB9', 'IGDCC3+MAPK1', 'MAP2K6+IKZF3', 'MAPK1+PRTG', 'FOXA3+FOXF1', 'RHOXF2+SET', 'SAMD1+PTPN12', 'MAPK1+IKZF3', 'PTPN12+ZBTB25', 'FEV+CBFA2T3', 'MAP2K6+SPI1', 'SNAI1+UBASH3B', 'CEBPE+PTPN12', 'BCL2L11+TGFBR2', 'ETS2+CEBPE', 'FEV+ISL2', 'JUN+CEBPB', 'ZNF318+FOXL2', 'TGFBR2+ETS2', 'LHX1+ELMSAN1', 'MAP2K3+ELMSAN1', 'FOSB+UBASH3B', 'SET+KLF1', 'FOSB+OSR2', 'PTPN12+SNAI1', 'CEBPE+CEBPA', 'ZBTB10+DLX2', 'DUSP9+SNAI1', 'ETS2+MAPK1', 'CEBPE+KLF1', 'CNN1+UBASH3A', 'ZBTB10+PTPN12', 'ZC3HAV1+CEBPE', 'MAPK1+TGFBR2', 'PRDM1+CBFA2T3', 'KLF1+BAK1', 'UBASH3B+PTPN12', 'ETS2+IKZF3', 'FOSB+PTPN12', 'UBASH3B+ZBTB25', 'TGFBR2+PRTG', 'FOXA3+FOXL2', 'ETS2+IGDCC3', 'KLF1+TGFBR2', 'CEBPB+OSR2', 'ZC3HAV1+HOXC13', 'ETS2+CNN1', 'UBASH3B+PTPN9', 'PTPN12+UBASH3A', 'ZC3HAV1+CEBPA', 'ETS2+MAP7D1', 'FOXA1+FOXL2', 'FEV+MAP7D1', 'FOXA1+FOXF1', 'KLF1+COL2A1', 'KIF18B+KIF2C', 'BPGM+ZBTB1', 'IGDCC3+PRTG', 'CBL+UBASH3A', 'KLF1+FOXA1'] 2\n",
      "['TMSB4X+BAK1', 'BPGM+SAMD1', 'TBX3+TBX2', 'CDKN1C+CDKN1B', 'SAMD1+UBASH3B', 'CEBPB+CEBPA', 'CBL+PTPN12', 'DUSP9+ETS2', 'CEBPE+CNN1', 'PTPN12+OSR2', 'KLF1+MAP2K6', 'FOXA3+HOXB9', 'UBASH3B+CNN1', 'FOSB+CEBPB', 'MAP2K6+ELMSAN1', 'CEBPB+PTPN12', 'DUSP9+IGDCC3', 'SAMD1+ZBTB1', 'LYL1+IER5L', 'ZBTB10+SNAI1', 'FOXF1+HOXB9', 'IGDCC3+MAPK1', 'MAP2K6+IKZF3', 'MAPK1+PRTG', 'FOXA3+FOXF1', 'RHOXF2+SET', 'SAMD1+PTPN12', 'MAPK1+IKZF3', 'PTPN12+ZBTB25', 'FEV+CBFA2T3', 'MAP2K6+SPI1', 'SNAI1+UBASH3B', 'CEBPE+PTPN12', 'BCL2L11+TGFBR2', 'ETS2+CEBPE', 'FEV+ISL2', 'JUN+CEBPB', 'ZNF318+FOXL2', 'TGFBR2+ETS2', 'LHX1+ELMSAN1', 'MAP2K3+ELMSAN1', 'FOSB+UBASH3B', 'SET+KLF1', 'FOSB+OSR2', 'PTPN12+SNAI1', 'CEBPE+CEBPA', 'ZBTB10+DLX2', 'DUSP9+SNAI1', 'ETS2+MAPK1', 'CEBPE+KLF1', 'CNN1+UBASH3A', 'ZBTB10+PTPN12', 'ZC3HAV1+CEBPE', 'MAPK1+TGFBR2', 'PRDM1+CBFA2T3', 'KLF1+BAK1', 'UBASH3B+PTPN12', 'ETS2+IKZF3', 'FOSB+PTPN12', 'UBASH3B+ZBTB25'] 3\n",
      "['TMSB4X+BAK1', 'BPGM+SAMD1', 'TBX3+TBX2', 'CDKN1C+CDKN1B', 'SAMD1+UBASH3B', 'CEBPB+CEBPA', 'CBL+PTPN12', 'DUSP9+ETS2', 'CEBPE+CNN1', 'PTPN12+OSR2', 'KLF1+MAP2K6', 'FOXA3+HOXB9', 'UBASH3B+CNN1', 'FOSB+CEBPB', 'MAP2K6+ELMSAN1', 'CEBPB+PTPN12', 'DUSP9+IGDCC3', 'SAMD1+ZBTB1', 'LYL1+IER5L', 'ZBTB10+SNAI1', 'FOXF1+HOXB9', 'IGDCC3+MAPK1', 'MAP2K6+IKZF3', 'MAPK1+PRTG', 'FOXA3+FOXF1', 'RHOXF2+SET', 'SAMD1+PTPN12', 'MAPK1+IKZF3', 'PTPN12+ZBTB25', 'FEV+CBFA2T3', 'MAP2K6+SPI1', 'SNAI1+UBASH3B', 'CEBPE+PTPN12', 'BCL2L11+TGFBR2', 'ETS2+CEBPE', 'FEV+ISL2', 'JUN+CEBPB', 'ZNF318+FOXL2', 'TGFBR2+ETS2', 'LHX1+ELMSAN1'] 4\n",
      "['TMSB4X+BAK1', 'BPGM+SAMD1', 'TBX3+TBX2', 'CDKN1C+CDKN1B', 'SAMD1+UBASH3B', 'CEBPB+CEBPA', 'CBL+PTPN12', 'DUSP9+ETS2', 'CEBPE+CNN1', 'PTPN12+OSR2', 'KLF1+MAP2K6', 'FOXA3+HOXB9', 'UBASH3B+CNN1', 'FOSB+CEBPB', 'MAP2K6+ELMSAN1', 'CEBPB+PTPN12', 'DUSP9+IGDCC3', 'SAMD1+ZBTB1', 'LYL1+IER5L', 'ZBTB10+SNAI1'] 5\n"
     ]
    }
   ],
   "source": [
    "for idx, splits in enumerate(ood_list):\n",
    "    ood_set = splits\n",
    "    print(splits, idx)\n",
    "    adata_new_small.obs[f'split{idx+15}'] = 'nan'\n",
    "    adata_new_small.obs[f'split{idx+15}'].loc[\n",
    "        adata_new_small.obs['condition'].isin(ood_set)\n",
    "    ] = 'ood'\n",
    "    adata_idx = adata_new_small.obs_names[adata_new_small.obs[f'split{idx+15}']!='ood']\n",
    "    adata_idx_train, adata_idx_test = train_test_split(adata_idx, test_size=0.2, random_state=42)\n",
    "    adata_new_small.obs[f'split{idx+15}'].loc[adata_idx_train] = 'train'\n",
    "    adata_new_small.obs[f'split{idx+15}'].loc[adata_idx_test] = 'test'\n",
    "    adata_new_small.obs.groupby(f'split{idx+15}').size()"
   ]
  },
  {
   "cell_type": "markdown",
   "metadata": {},
   "source": [
    "epistasis"
   ]
  },
  {
   "cell_type": "code",
   "execution_count": 329,
   "metadata": {},
   "outputs": [
    {
     "name": "stderr",
     "output_type": "stream",
     "text": [
      "/home/mohammad/anaconda3/envs/scvi-env/lib/python3.7/site-packages/pandas/core/indexing.py:670: SettingWithCopyWarning: \n",
      "A value is trying to be set on a copy of a slice from a DataFrame\n",
      "\n",
      "See the caveats in the documentation: https://pandas.pydata.org/pandas-docs/stable/user_guide/indexing.html#returning-a-view-versus-a-copy\n",
      "  iloc._setitem_with_indexer(indexer, value)\n"
     ]
    },
    {
     "data": {
      "text/plain": [
       "split21\n",
       "ood       3824\n",
       "test     20935\n",
       "train    83738\n",
       "dtype: int64"
      ]
     },
     "execution_count": 329,
     "metadata": {},
     "output_type": "execute_result"
    }
   ],
   "source": [
    "epistasis = [\"AHR+KLF1\",\"MAPK1+TGFBR2\",\"TGFBR2+IGDCC3\",\"TGFBR2+PRTG\",\n",
    "             \"UBASH3B+OSR2\",\"DUSP9+ETS2\",\"KLF1+CEBPA\",\"MAP2K6+IKZF3\",\"ZC3HAV1+CEBPA\"]\n",
    "ood_set = epistasis\n",
    "adata_new_small.obs['split21'] = 'nan'\n",
    "adata_new_small.obs['split21'].loc[\n",
    "    adata_new_small.obs['condition'].isin(ood_set)\n",
    "] = 'ood'\n",
    "adata_idx = adata_new_small.obs_names[adata_new_small.obs.split21!='ood']\n",
    "adata_idx_train, adata_idx_test = train_test_split(adata_idx, test_size=0.2, random_state=42)\n",
    "adata_new_small.obs['split21'].loc[adata_idx_train] = 'train'\n",
    "adata_new_small.obs['split21'].loc[adata_idx_test] = 'test'\n",
    "adata_new_small.obs.groupby('split21').size()"
   ]
  },
  {
   "cell_type": "code",
   "execution_count": 339,
   "metadata": {},
   "outputs": [],
   "source": [
    "check = adata_new_small[adata_new_small.obs[\"split21\"] == \"ood\"]"
   ]
  },
  {
   "cell_type": "code",
   "execution_count": 341,
   "metadata": {},
   "outputs": [
    {
     "data": {
      "text/plain": [
       "UBASH3B+OSR2     796\n",
       "DUSP9+ETS2       787\n",
       "MAPK1+TGFBR2     497\n",
       "AHR+KLF1         481\n",
       "KLF1+CEBPA       311\n",
       "TGFBR2+IGDCC3    301\n",
       "MAP2K6+IKZF3     300\n",
       "TGFBR2+PRTG      265\n",
       "ZC3HAV1+CEBPA     86\n",
       "Name: condition, dtype: int64"
      ]
     },
     "execution_count": 341,
     "metadata": {},
     "output_type": "execute_result"
    }
   ],
   "source": [
    "check.obs[condition_key].value_counts()"
   ]
  },
  {
   "cell_type": "markdown",
   "metadata": {},
   "source": [
    "neomorphic interactions"
   ]
  },
  {
   "cell_type": "code",
   "execution_count": 344,
   "metadata": {},
   "outputs": [],
   "source": [
    "nemorphic = [\"CBL+TGFBR2\",\"KLF1+TGFBR2\",\"MAP2K6+SPI1\",\n",
    "            \"SAMD1+TGFBR2\",\"TGFBR2+ETS2\",\"CBL+UBASH3A\",\n",
    "            \"CEBPE+KLF1\",\"PTPN12+OSR2\",\"ZC3HAV1+CEBPE\",\"PLK4+STIL\",\"FOSB+PTPN12\",\"FEV+CBFA2T3\"]"
   ]
  },
  {
   "cell_type": "code",
   "execution_count": 345,
   "metadata": {},
   "outputs": [
    {
     "name": "stderr",
     "output_type": "stream",
     "text": [
      "/home/mohammad/anaconda3/envs/scvi-env/lib/python3.7/site-packages/pandas/core/indexing.py:670: SettingWithCopyWarning: \n",
      "A value is trying to be set on a copy of a slice from a DataFrame\n",
      "\n",
      "See the caveats in the documentation: https://pandas.pydata.org/pandas-docs/stable/user_guide/indexing.html#returning-a-view-versus-a-copy\n",
      "  iloc._setitem_with_indexer(indexer, value)\n"
     ]
    },
    {
     "data": {
      "text/plain": [
       "split22\n",
       "ood       3083\n",
       "test     21083\n",
       "train    84331\n",
       "dtype: int64"
      ]
     },
     "execution_count": 345,
     "metadata": {},
     "output_type": "execute_result"
    }
   ],
   "source": [
    "ood_set = nemorphic\n",
    "adata_new_small.obs['split22'] = 'nan'\n",
    "adata_new_small.obs['split22'].loc[\n",
    "    adata_new_small.obs['condition'].isin(ood_set)\n",
    "] = 'ood'\n",
    "adata_idx = adata_new_small.obs_names[adata_new_small.obs.split22!='ood']\n",
    "adata_idx_train, adata_idx_test = train_test_split(adata_idx, test_size=0.2, random_state=42)\n",
    "adata_new_small.obs['split22'].loc[adata_idx_train] = 'train'\n",
    "adata_new_small.obs['split22'].loc[adata_idx_test] = 'test'\n",
    "adata_new_small.obs.groupby('split22').size()"
   ]
  },
  {
   "cell_type": "code",
   "execution_count": 347,
   "metadata": {},
   "outputs": [],
   "source": [
    "check = adata_new_small[adata_new_small.obs[\"split22\"] == \"ood\"]"
   ]
  },
  {
   "cell_type": "code",
   "execution_count": 348,
   "metadata": {},
   "outputs": [
    {
     "data": {
      "text/plain": [
       "CEBPE+KLF1       468\n",
       "ZC3HAV1+CEBPE    410\n",
       "FOSB+PTPN12      345\n",
       "PTPN12+OSR2      339\n",
       "KLF1+TGFBR2      337\n",
       "TGFBR2+ETS2      318\n",
       "MAP2K6+SPI1      302\n",
       "CBL+TGFBR2       188\n",
       "FEV+CBFA2T3      159\n",
       "PLK4+STIL         81\n",
       "SAMD1+TGFBR2      72\n",
       "CBL+UBASH3A       64\n",
       "Name: condition, dtype: int64"
      ]
     },
     "execution_count": 348,
     "metadata": {},
     "output_type": "execute_result"
    }
   ],
   "source": [
    "check.obs[condition_key].value_counts()"
   ]
  },
  {
   "cell_type": "code",
   "execution_count": 356,
   "metadata": {},
   "outputs": [
    {
     "data": {
      "text/plain": [
       "set()"
      ]
     },
     "execution_count": 356,
     "metadata": {},
     "output_type": "execute_result"
    }
   ],
   "source": [
    "set(set_orig)"
   ]
  },
  {
   "cell_type": "code",
   "execution_count": 359,
   "metadata": {},
   "outputs": [],
   "source": [
    "set_orig = []\n",
    "for i in adata_new_small.obs[condition_key].unique():\n",
    "    for j in nemorphic:\n",
    "        split = j.split(\"+\")\n",
    "        if (split[0] in i) and (split[1] in i):\n",
    "            set_orig.append(i)\n"
   ]
  },
  {
   "cell_type": "code",
   "execution_count": 361,
   "metadata": {},
   "outputs": [
    {
     "data": {
      "text/plain": [
       "True"
      ]
     },
     "execution_count": 361,
     "metadata": {},
     "output_type": "execute_result"
    }
   ],
   "source": [
    "set(set_orig) == set(nemorphic)"
   ]
  },
  {
   "cell_type": "markdown",
   "metadata": {},
   "source": [
    "leave all doubles out  out"
   ]
  },
  {
   "cell_type": "code",
   "execution_count": 364,
   "metadata": {},
   "outputs": [],
   "source": [
    "double_ko_list = [i for i in adata_new_small.obs[condition_key].unique() if \"ctrl\" not in i]\n",
    "single = [i for i in adata_new_small.obs[condition_key].unique() if \"ctrl\" in i]\n",
    "np.random.shuffle(double_ko_list)"
   ]
  },
  {
   "cell_type": "code",
   "execution_count": 368,
   "metadata": {},
   "outputs": [
    {
     "data": {
      "text/plain": [
       "split23\n",
       "ood      41759\n",
       "test     13348\n",
       "train    53390\n",
       "dtype: int64"
      ]
     },
     "execution_count": 368,
     "metadata": {},
     "output_type": "execute_result"
    }
   ],
   "source": [
    "ood_set = double_ko_list\n",
    "adata_new_small.obs['split23'] = 'nan'\n",
    "adata_new_small.obs['split23'].loc[\n",
    "    adata_new_small.obs['condition'].isin(ood_set)\n",
    "] = 'ood'\n",
    "adata_idx = adata_new_small.obs_names[adata_new_small.obs.split23!='ood']\n",
    "adata_idx_train, adata_idx_test = train_test_split(adata_idx, test_size=0.2, random_state=42)\n",
    "adata_new_small.obs['split23'].loc[adata_idx_train] = 'train'\n",
    "adata_new_small.obs['split23'].loc[adata_idx_test] = 'test'\n",
    "adata_new_small.obs.groupby('split23').size()"
   ]
  },
  {
   "cell_type": "markdown",
   "metadata": {},
   "source": [
    "saving final object"
   ]
  },
  {
   "cell_type": "code",
   "execution_count": 369,
   "metadata": {},
   "outputs": [
    {
     "data": {
      "text/plain": [
       "AnnData object with n_obs × n_vars = 108497 × 5000\n",
       "    obs: 'cov_drug_dose_name', 'dose_val', 'control', 'condition', 'guide_identity', 'drug_dose_name', 'cell_type', 'split', 'split1', 'split2', 'split3', 'split4', 'split5', 'split6', 'split7', 'split8', 'split9', 'split10', 'split11', 'split12', 'split13', 'split14', 'split15', 'split16', 'split17', 'split18', 'split19', 'split20', 'split21', 'split22', 'split23'\n",
       "    var: 'gene_symbols', 'highly_variable', 'means', 'dispersions', 'dispersions_norm'\n",
       "    uns: 'log1p', 'hvg', 'rank_genes_groups_cov'\n",
       "    layers: 'counts'"
      ]
     },
     "execution_count": 369,
     "metadata": {},
     "output_type": "execute_result"
    }
   ],
   "source": [
    "adata_new_small"
   ]
  },
  {
   "cell_type": "code",
   "execution_count": 370,
   "metadata": {},
   "outputs": [
    {
     "name": "stderr",
     "output_type": "stream",
     "text": [
      "... storing 'split23' as categorical\n"
     ]
    }
   ],
   "source": [
    "adata_new_small.write(\"../datasets/Norman2019_prep_new.h5ad\")"
   ]
  },
  {
   "cell_type": "markdown",
   "metadata": {},
   "source": [
    "add two splits "
   ]
  },
  {
   "cell_type": "markdown",
   "metadata": {},
   "source": [
    "split DUSP9+MAPK1"
   ]
  },
  {
   "cell_type": "code",
   "execution_count": 4,
   "metadata": {},
   "outputs": [],
   "source": [
    "adata_new = sc.read(\"../datasets/Norman2019_prep_new.h5ad\")"
   ]
  },
  {
   "cell_type": "code",
   "execution_count": 8,
   "metadata": {},
   "outputs": [
    {
     "name": "stderr",
     "output_type": "stream",
     "text": [
      "/home/mo/miniconda3/envs/pytorch/lib/python3.8/site-packages/pandas/core/indexing.py:1637: SettingWithCopyWarning: \n",
      "A value is trying to be set on a copy of a slice from a DataFrame\n",
      "\n",
      "See the caveats in the documentation: https://pandas.pydata.org/pandas-docs/stable/user_guide/indexing.html#returning-a-view-versus-a-copy\n",
      "  self._setitem_single_block(indexer, value, name)\n",
      "/home/mo/miniconda3/envs/pytorch/lib/python3.8/site-packages/pandas/core/arrays/categorical.py:2487: FutureWarning: The `inplace` parameter in pandas.Categorical.remove_unused_categories is deprecated and will be removed in a future version.\n",
      "  res = method(*args, **kwargs)\n"
     ]
    },
    {
     "data": {
      "text/plain": [
       "split24\n",
       "ood        290\n",
       "test     21642\n",
       "train    86565\n",
       "dtype: int64"
      ]
     },
     "execution_count": 8,
     "metadata": {},
     "output_type": "execute_result"
    }
   ],
   "source": [
    "ood_set = ['DUSP9+MAPK1']\n",
    "adata_new.obs['split24'] = 'nan'\n",
    "adata_new.obs['split24'].loc[\n",
    "    adata_new.obs['condition'].isin(ood_set)\n",
    "] = 'ood'\n",
    "adata_idx = adata_new.obs_names[adata_new.obs.split24!='ood']\n",
    "adata_idx_train, adata_idx_test = train_test_split(adata_idx, test_size=0.2, random_state=42)\n",
    "adata_idx = adata_new.obs_names[adata_new.obs.split24!='ood']\n",
    "train_test = adata_new[~adata_new.obs[\"condition\"].isin(ood_set)].copy()\n",
    "adata_new.obs['split24'].loc[adata_idx_train] = 'train'\n",
    "adata_new.obs['split24'].loc[adata_idx_test] = 'test'\n",
    "adata_new.obs.groupby('split24').size()"
   ]
  },
  {
   "cell_type": "markdown",
   "metadata": {},
   "source": [
    "split DUSP9+ETS2"
   ]
  },
  {
   "cell_type": "code",
   "execution_count": 9,
   "metadata": {},
   "outputs": [
    {
     "name": "stderr",
     "output_type": "stream",
     "text": [
      "/home/mo/miniconda3/envs/pytorch/lib/python3.8/site-packages/pandas/core/indexing.py:1637: SettingWithCopyWarning: \n",
      "A value is trying to be set on a copy of a slice from a DataFrame\n",
      "\n",
      "See the caveats in the documentation: https://pandas.pydata.org/pandas-docs/stable/user_guide/indexing.html#returning-a-view-versus-a-copy\n",
      "  self._setitem_single_block(indexer, value, name)\n",
      "/home/mo/miniconda3/envs/pytorch/lib/python3.8/site-packages/pandas/core/arrays/categorical.py:2487: FutureWarning: The `inplace` parameter in pandas.Categorical.remove_unused_categories is deprecated and will be removed in a future version.\n",
      "  res = method(*args, **kwargs)\n"
     ]
    },
    {
     "data": {
      "text/plain": [
       "split25\n",
       "ood        787\n",
       "test     21542\n",
       "train    86168\n",
       "dtype: int64"
      ]
     },
     "execution_count": 9,
     "metadata": {},
     "output_type": "execute_result"
    }
   ],
   "source": [
    "ood_set = [\"DUSP9+ETS2\"]\n",
    "adata_new.obs['split25'] = 'nan'\n",
    "adata_new.obs['split25'].loc[\n",
    "    adata_new.obs['condition'].isin(ood_set)\n",
    "] = 'ood'\n",
    "adata_idx = adata_new.obs_names[adata_new.obs.split25!='ood']\n",
    "adata_idx_train, adata_idx_test = train_test_split(adata_idx, test_size=0.2, random_state=42)\n",
    "adata_idx = adata_new.obs_names[adata_new.obs.split25!='ood']\n",
    "train_test = adata_new[~adata_new.obs[\"condition\"].isin(ood_set)].copy()\n",
    "adata_new.obs['split25'].loc[adata_idx_train] = 'train'\n",
    "adata_new.obs['split25'].loc[adata_idx_test] = 'test'\n",
    "adata_new.obs.groupby('split25').size()"
   ]
  },
  {
   "cell_type": "code",
   "execution_count": 11,
   "metadata": {},
   "outputs": [
    {
     "name": "stderr",
     "output_type": "stream",
     "text": [
      "... storing 'split24' as categorical\n",
      "... storing 'split25' as categorical\n"
     ]
    }
   ],
   "source": [
    "adata_new.write(\"../datasets/Norman2019_prep_new.h5ad\")"
   ]
  },
  {
   "cell_type": "code",
   "execution_count": 8,
   "metadata": {},
   "outputs": [
    {
     "data": {
      "text/plain": [
       "AnnData object with n_obs × n_vars = 108497 × 5000\n",
       "    obs: 'cov_drug_dose_name', 'dose_val', 'control', 'condition', 'guide_identity', 'drug_dose_name', 'cell_type', 'split', 'split1', 'split2', 'split3', 'split4', 'split5', 'split6', 'split7', 'split8', 'split9', 'split10', 'split11', 'split12', 'split13', 'split14', 'split15', 'split16', 'split17', 'split18', 'split19', 'split20', 'split21', 'split22', 'split23', 'split24', 'split25'\n",
       "    var: 'gene_symbols', 'highly_variable', 'means', 'dispersions', 'dispersions_norm'\n",
       "    uns: 'hvg', 'rank_genes_groups_cov'\n",
       "    layers: 'counts'"
      ]
     },
     "execution_count": 8,
     "metadata": {},
     "output_type": "execute_result"
    }
   ],
   "source": [
    "adata_new = sc.read(\"../datasets/Norman2019_prep_new.h5ad\")\n",
    "adata_new"
   ]
  },
  {
   "cell_type": "code",
   "execution_count": 11,
   "metadata": {},
   "outputs": [
    {
     "data": {
      "text/html": [
       "<div>\n",
       "<style scoped>\n",
       "    .dataframe tbody tr th:only-of-type {\n",
       "        vertical-align: middle;\n",
       "    }\n",
       "\n",
       "    .dataframe tbody tr th {\n",
       "        vertical-align: top;\n",
       "    }\n",
       "\n",
       "    .dataframe thead th {\n",
       "        text-align: right;\n",
       "    }\n",
       "</style>\n",
       "<table border=\"1\" class=\"dataframe\">\n",
       "  <thead>\n",
       "    <tr style=\"text-align: right;\">\n",
       "      <th></th>\n",
       "      <th>cov_drug_dose_name</th>\n",
       "      <th>dose_val</th>\n",
       "      <th>control</th>\n",
       "      <th>condition</th>\n",
       "      <th>guide_identity</th>\n",
       "      <th>drug_dose_name</th>\n",
       "      <th>cell_type</th>\n",
       "      <th>split</th>\n",
       "      <th>split1</th>\n",
       "      <th>split2</th>\n",
       "      <th>...</th>\n",
       "      <th>split16</th>\n",
       "      <th>split17</th>\n",
       "      <th>split18</th>\n",
       "      <th>split19</th>\n",
       "      <th>split20</th>\n",
       "      <th>split21</th>\n",
       "      <th>split22</th>\n",
       "      <th>split23</th>\n",
       "      <th>split24</th>\n",
       "      <th>split25</th>\n",
       "    </tr>\n",
       "    <tr>\n",
       "      <th>index</th>\n",
       "      <th></th>\n",
       "      <th></th>\n",
       "      <th></th>\n",
       "      <th></th>\n",
       "      <th></th>\n",
       "      <th></th>\n",
       "      <th></th>\n",
       "      <th></th>\n",
       "      <th></th>\n",
       "      <th></th>\n",
       "      <th></th>\n",
       "      <th></th>\n",
       "      <th></th>\n",
       "      <th></th>\n",
       "      <th></th>\n",
       "      <th></th>\n",
       "      <th></th>\n",
       "      <th></th>\n",
       "      <th></th>\n",
       "      <th></th>\n",
       "      <th></th>\n",
       "    </tr>\n",
       "  </thead>\n",
       "  <tbody>\n",
       "    <tr>\n",
       "      <th>AAACCTGAGAAGAAGC-1</th>\n",
       "      <td>A549_ctrl_1</td>\n",
       "      <td>1</td>\n",
       "      <td>1</td>\n",
       "      <td>ctrl</td>\n",
       "      <td>NegCtrl0_NegCtrl0__NegCtrl0_NegCtrl0</td>\n",
       "      <td>ctrl_1</td>\n",
       "      <td>A549</td>\n",
       "      <td>train</td>\n",
       "      <td>train</td>\n",
       "      <td>train</td>\n",
       "      <td>...</td>\n",
       "      <td>train</td>\n",
       "      <td>train</td>\n",
       "      <td>train</td>\n",
       "      <td>train</td>\n",
       "      <td>train</td>\n",
       "      <td>train</td>\n",
       "      <td>train</td>\n",
       "      <td>train</td>\n",
       "      <td>train</td>\n",
       "      <td>train</td>\n",
       "    </tr>\n",
       "    <tr>\n",
       "      <th>AAACCTGAGGCATGTG-1</th>\n",
       "      <td>A549_TSC22D1+ctrl_1+1</td>\n",
       "      <td>1+1</td>\n",
       "      <td>0</td>\n",
       "      <td>TSC22D1+ctrl</td>\n",
       "      <td>TSC22D1_NegCtrl0__TSC22D1_NegCtrl0</td>\n",
       "      <td>TSC22D1+ctrl_1+1</td>\n",
       "      <td>A549</td>\n",
       "      <td>train</td>\n",
       "      <td>train</td>\n",
       "      <td>train</td>\n",
       "      <td>...</td>\n",
       "      <td>train</td>\n",
       "      <td>train</td>\n",
       "      <td>train</td>\n",
       "      <td>train</td>\n",
       "      <td>train</td>\n",
       "      <td>train</td>\n",
       "      <td>train</td>\n",
       "      <td>train</td>\n",
       "      <td>train</td>\n",
       "      <td>train</td>\n",
       "    </tr>\n",
       "    <tr>\n",
       "      <th>AAACCTGAGGCCCTTG-1</th>\n",
       "      <td>A549_KLF1+MAP2K6_1+1</td>\n",
       "      <td>1+1</td>\n",
       "      <td>0</td>\n",
       "      <td>KLF1+MAP2K6</td>\n",
       "      <td>KLF1_MAP2K6__KLF1_MAP2K6</td>\n",
       "      <td>KLF1+MAP2K6_1+1</td>\n",
       "      <td>A549</td>\n",
       "      <td>train</td>\n",
       "      <td>train</td>\n",
       "      <td>train</td>\n",
       "      <td>...</td>\n",
       "      <td>ood</td>\n",
       "      <td>ood</td>\n",
       "      <td>ood</td>\n",
       "      <td>ood</td>\n",
       "      <td>ood</td>\n",
       "      <td>train</td>\n",
       "      <td>train</td>\n",
       "      <td>ood</td>\n",
       "      <td>train</td>\n",
       "      <td>train</td>\n",
       "    </tr>\n",
       "    <tr>\n",
       "      <th>AAACCTGCACGAAGCA-1</th>\n",
       "      <td>A549_ctrl_1</td>\n",
       "      <td>1</td>\n",
       "      <td>1</td>\n",
       "      <td>ctrl</td>\n",
       "      <td>NegCtrl10_NegCtrl0__NegCtrl10_NegCtrl0</td>\n",
       "      <td>ctrl_1</td>\n",
       "      <td>A549</td>\n",
       "      <td>train</td>\n",
       "      <td>test</td>\n",
       "      <td>train</td>\n",
       "      <td>...</td>\n",
       "      <td>train</td>\n",
       "      <td>train</td>\n",
       "      <td>train</td>\n",
       "      <td>train</td>\n",
       "      <td>train</td>\n",
       "      <td>train</td>\n",
       "      <td>train</td>\n",
       "      <td>train</td>\n",
       "      <td>test</td>\n",
       "      <td>test</td>\n",
       "    </tr>\n",
       "    <tr>\n",
       "      <th>AAACCTGCAGACGTAG-1</th>\n",
       "      <td>A549_CEBPE+RUNX1T1_1+1</td>\n",
       "      <td>1+1</td>\n",
       "      <td>0</td>\n",
       "      <td>CEBPE+RUNX1T1</td>\n",
       "      <td>CEBPE_RUNX1T1__CEBPE_RUNX1T1</td>\n",
       "      <td>CEBPE+RUNX1T1_1+1</td>\n",
       "      <td>A549</td>\n",
       "      <td>train</td>\n",
       "      <td>train</td>\n",
       "      <td>train</td>\n",
       "      <td>...</td>\n",
       "      <td>train</td>\n",
       "      <td>train</td>\n",
       "      <td>train</td>\n",
       "      <td>train</td>\n",
       "      <td>train</td>\n",
       "      <td>train</td>\n",
       "      <td>train</td>\n",
       "      <td>ood</td>\n",
       "      <td>train</td>\n",
       "      <td>train</td>\n",
       "    </tr>\n",
       "    <tr>\n",
       "      <th>...</th>\n",
       "      <td>...</td>\n",
       "      <td>...</td>\n",
       "      <td>...</td>\n",
       "      <td>...</td>\n",
       "      <td>...</td>\n",
       "      <td>...</td>\n",
       "      <td>...</td>\n",
       "      <td>...</td>\n",
       "      <td>...</td>\n",
       "      <td>...</td>\n",
       "      <td>...</td>\n",
       "      <td>...</td>\n",
       "      <td>...</td>\n",
       "      <td>...</td>\n",
       "      <td>...</td>\n",
       "      <td>...</td>\n",
       "      <td>...</td>\n",
       "      <td>...</td>\n",
       "      <td>...</td>\n",
       "      <td>...</td>\n",
       "      <td>...</td>\n",
       "    </tr>\n",
       "    <tr>\n",
       "      <th>TTTGTCATCAGTACGT-8</th>\n",
       "      <td>A549_FOXA3+ctrl_1+1</td>\n",
       "      <td>1+1</td>\n",
       "      <td>0</td>\n",
       "      <td>FOXA3+ctrl</td>\n",
       "      <td>FOXA3_NegCtrl0__FOXA3_NegCtrl0</td>\n",
       "      <td>FOXA3+ctrl_1+1</td>\n",
       "      <td>A549</td>\n",
       "      <td>test</td>\n",
       "      <td>test</td>\n",
       "      <td>test</td>\n",
       "      <td>...</td>\n",
       "      <td>train</td>\n",
       "      <td>train</td>\n",
       "      <td>test</td>\n",
       "      <td>train</td>\n",
       "      <td>train</td>\n",
       "      <td>train</td>\n",
       "      <td>test</td>\n",
       "      <td>train</td>\n",
       "      <td>train</td>\n",
       "      <td>train</td>\n",
       "    </tr>\n",
       "    <tr>\n",
       "      <th>TTTGTCATCCACTCCA-8</th>\n",
       "      <td>A549_CELF2+ctrl_1+1</td>\n",
       "      <td>1+1</td>\n",
       "      <td>0</td>\n",
       "      <td>CELF2+ctrl</td>\n",
       "      <td>CELF2_NegCtrl0__CELF2_NegCtrl0</td>\n",
       "      <td>CELF2+ctrl_1+1</td>\n",
       "      <td>A549</td>\n",
       "      <td>train</td>\n",
       "      <td>train</td>\n",
       "      <td>train</td>\n",
       "      <td>...</td>\n",
       "      <td>train</td>\n",
       "      <td>train</td>\n",
       "      <td>train</td>\n",
       "      <td>test</td>\n",
       "      <td>train</td>\n",
       "      <td>train</td>\n",
       "      <td>train</td>\n",
       "      <td>train</td>\n",
       "      <td>train</td>\n",
       "      <td>train</td>\n",
       "    </tr>\n",
       "    <tr>\n",
       "      <th>TTTGTCATCCCAACGG-8</th>\n",
       "      <td>A549_BCORL1+ctrl_1+1</td>\n",
       "      <td>1+1</td>\n",
       "      <td>0</td>\n",
       "      <td>BCORL1+ctrl</td>\n",
       "      <td>BCORL1_NegCtrl0__BCORL1_NegCtrl0</td>\n",
       "      <td>BCORL1+ctrl_1+1</td>\n",
       "      <td>A549</td>\n",
       "      <td>train</td>\n",
       "      <td>test</td>\n",
       "      <td>train</td>\n",
       "      <td>...</td>\n",
       "      <td>train</td>\n",
       "      <td>train</td>\n",
       "      <td>train</td>\n",
       "      <td>train</td>\n",
       "      <td>train</td>\n",
       "      <td>train</td>\n",
       "      <td>train</td>\n",
       "      <td>train</td>\n",
       "      <td>train</td>\n",
       "      <td>train</td>\n",
       "    </tr>\n",
       "    <tr>\n",
       "      <th>TTTGTCATCCTCCTAG-8</th>\n",
       "      <td>A549_ZBTB10+PTPN12_1+1</td>\n",
       "      <td>1+1</td>\n",
       "      <td>0</td>\n",
       "      <td>ZBTB10+PTPN12</td>\n",
       "      <td>ZBTB10_PTPN12__ZBTB10_PTPN12</td>\n",
       "      <td>ZBTB10+PTPN12_1+1</td>\n",
       "      <td>A549</td>\n",
       "      <td>train</td>\n",
       "      <td>train</td>\n",
       "      <td>train</td>\n",
       "      <td>...</td>\n",
       "      <td>ood</td>\n",
       "      <td>ood</td>\n",
       "      <td>ood</td>\n",
       "      <td>train</td>\n",
       "      <td>train</td>\n",
       "      <td>train</td>\n",
       "      <td>train</td>\n",
       "      <td>ood</td>\n",
       "      <td>train</td>\n",
       "      <td>train</td>\n",
       "    </tr>\n",
       "    <tr>\n",
       "      <th>TTTGTCATCTGGCGAC-8</th>\n",
       "      <td>A549_MAP4K3+ctrl_1+1</td>\n",
       "      <td>1+1</td>\n",
       "      <td>0</td>\n",
       "      <td>MAP4K3+ctrl</td>\n",
       "      <td>MAP4K3_NegCtrl0__MAP4K3_NegCtrl0</td>\n",
       "      <td>MAP4K3+ctrl_1+1</td>\n",
       "      <td>A549</td>\n",
       "      <td>train</td>\n",
       "      <td>train</td>\n",
       "      <td>test</td>\n",
       "      <td>...</td>\n",
       "      <td>train</td>\n",
       "      <td>train</td>\n",
       "      <td>test</td>\n",
       "      <td>test</td>\n",
       "      <td>test</td>\n",
       "      <td>test</td>\n",
       "      <td>test</td>\n",
       "      <td>train</td>\n",
       "      <td>train</td>\n",
       "      <td>train</td>\n",
       "    </tr>\n",
       "  </tbody>\n",
       "</table>\n",
       "<p>108497 rows × 33 columns</p>\n",
       "</div>"
      ],
      "text/plain": [
       "                        cov_drug_dose_name dose_val  control      condition  \\\n",
       "index                                                                         \n",
       "AAACCTGAGAAGAAGC-1             A549_ctrl_1        1        1           ctrl   \n",
       "AAACCTGAGGCATGTG-1   A549_TSC22D1+ctrl_1+1      1+1        0   TSC22D1+ctrl   \n",
       "AAACCTGAGGCCCTTG-1    A549_KLF1+MAP2K6_1+1      1+1        0    KLF1+MAP2K6   \n",
       "AAACCTGCACGAAGCA-1             A549_ctrl_1        1        1           ctrl   \n",
       "AAACCTGCAGACGTAG-1  A549_CEBPE+RUNX1T1_1+1      1+1        0  CEBPE+RUNX1T1   \n",
       "...                                    ...      ...      ...            ...   \n",
       "TTTGTCATCAGTACGT-8     A549_FOXA3+ctrl_1+1      1+1        0     FOXA3+ctrl   \n",
       "TTTGTCATCCACTCCA-8     A549_CELF2+ctrl_1+1      1+1        0     CELF2+ctrl   \n",
       "TTTGTCATCCCAACGG-8    A549_BCORL1+ctrl_1+1      1+1        0    BCORL1+ctrl   \n",
       "TTTGTCATCCTCCTAG-8  A549_ZBTB10+PTPN12_1+1      1+1        0  ZBTB10+PTPN12   \n",
       "TTTGTCATCTGGCGAC-8    A549_MAP4K3+ctrl_1+1      1+1        0    MAP4K3+ctrl   \n",
       "\n",
       "                                            guide_identity     drug_dose_name  \\\n",
       "index                                                                           \n",
       "AAACCTGAGAAGAAGC-1    NegCtrl0_NegCtrl0__NegCtrl0_NegCtrl0             ctrl_1   \n",
       "AAACCTGAGGCATGTG-1      TSC22D1_NegCtrl0__TSC22D1_NegCtrl0   TSC22D1+ctrl_1+1   \n",
       "AAACCTGAGGCCCTTG-1                KLF1_MAP2K6__KLF1_MAP2K6    KLF1+MAP2K6_1+1   \n",
       "AAACCTGCACGAAGCA-1  NegCtrl10_NegCtrl0__NegCtrl10_NegCtrl0             ctrl_1   \n",
       "AAACCTGCAGACGTAG-1            CEBPE_RUNX1T1__CEBPE_RUNX1T1  CEBPE+RUNX1T1_1+1   \n",
       "...                                                    ...                ...   \n",
       "TTTGTCATCAGTACGT-8          FOXA3_NegCtrl0__FOXA3_NegCtrl0     FOXA3+ctrl_1+1   \n",
       "TTTGTCATCCACTCCA-8          CELF2_NegCtrl0__CELF2_NegCtrl0     CELF2+ctrl_1+1   \n",
       "TTTGTCATCCCAACGG-8        BCORL1_NegCtrl0__BCORL1_NegCtrl0    BCORL1+ctrl_1+1   \n",
       "TTTGTCATCCTCCTAG-8            ZBTB10_PTPN12__ZBTB10_PTPN12  ZBTB10+PTPN12_1+1   \n",
       "TTTGTCATCTGGCGAC-8        MAP4K3_NegCtrl0__MAP4K3_NegCtrl0    MAP4K3+ctrl_1+1   \n",
       "\n",
       "                   cell_type  split split1 split2  ... split16 split17  \\\n",
       "index                                              ...                   \n",
       "AAACCTGAGAAGAAGC-1      A549  train  train  train  ...   train   train   \n",
       "AAACCTGAGGCATGTG-1      A549  train  train  train  ...   train   train   \n",
       "AAACCTGAGGCCCTTG-1      A549  train  train  train  ...     ood     ood   \n",
       "AAACCTGCACGAAGCA-1      A549  train   test  train  ...   train   train   \n",
       "AAACCTGCAGACGTAG-1      A549  train  train  train  ...   train   train   \n",
       "...                      ...    ...    ...    ...  ...     ...     ...   \n",
       "TTTGTCATCAGTACGT-8      A549   test   test   test  ...   train   train   \n",
       "TTTGTCATCCACTCCA-8      A549  train  train  train  ...   train   train   \n",
       "TTTGTCATCCCAACGG-8      A549  train   test  train  ...   train   train   \n",
       "TTTGTCATCCTCCTAG-8      A549  train  train  train  ...     ood     ood   \n",
       "TTTGTCATCTGGCGAC-8      A549  train  train   test  ...   train   train   \n",
       "\n",
       "                   split18 split19 split20 split21 split22 split23 split24  \\\n",
       "index                                                                        \n",
       "AAACCTGAGAAGAAGC-1   train   train   train   train   train   train   train   \n",
       "AAACCTGAGGCATGTG-1   train   train   train   train   train   train   train   \n",
       "AAACCTGAGGCCCTTG-1     ood     ood     ood   train   train     ood   train   \n",
       "AAACCTGCACGAAGCA-1   train   train   train   train   train   train    test   \n",
       "AAACCTGCAGACGTAG-1   train   train   train   train   train     ood   train   \n",
       "...                    ...     ...     ...     ...     ...     ...     ...   \n",
       "TTTGTCATCAGTACGT-8    test   train   train   train    test   train   train   \n",
       "TTTGTCATCCACTCCA-8   train    test   train   train   train   train   train   \n",
       "TTTGTCATCCCAACGG-8   train   train   train   train   train   train   train   \n",
       "TTTGTCATCCTCCTAG-8     ood   train   train   train   train     ood   train   \n",
       "TTTGTCATCTGGCGAC-8    test    test    test    test    test   train   train   \n",
       "\n",
       "                   split25  \n",
       "index                       \n",
       "AAACCTGAGAAGAAGC-1   train  \n",
       "AAACCTGAGGCATGTG-1   train  \n",
       "AAACCTGAGGCCCTTG-1   train  \n",
       "AAACCTGCACGAAGCA-1    test  \n",
       "AAACCTGCAGACGTAG-1   train  \n",
       "...                    ...  \n",
       "TTTGTCATCAGTACGT-8   train  \n",
       "TTTGTCATCCACTCCA-8   train  \n",
       "TTTGTCATCCCAACGG-8   train  \n",
       "TTTGTCATCCTCCTAG-8   train  \n",
       "TTTGTCATCTGGCGAC-8   train  \n",
       "\n",
       "[108497 rows x 33 columns]"
      ]
     },
     "execution_count": 11,
     "metadata": {},
     "output_type": "execute_result"
    }
   ],
   "source": [
    "adata_new.obs"
   ]
  },
  {
   "cell_type": "code",
   "execution_count": 15,
   "metadata": {},
   "outputs": [
    {
     "data": {
      "text/html": [
       "<div>\n",
       "<style scoped>\n",
       "    .dataframe tbody tr th:only-of-type {\n",
       "        vertical-align: middle;\n",
       "    }\n",
       "\n",
       "    .dataframe tbody tr th {\n",
       "        vertical-align: top;\n",
       "    }\n",
       "\n",
       "    .dataframe thead th {\n",
       "        text-align: right;\n",
       "    }\n",
       "</style>\n",
       "<table border=\"1\" class=\"dataframe\">\n",
       "  <thead>\n",
       "    <tr style=\"text-align: right;\">\n",
       "      <th></th>\n",
       "      <th>gene_symbols</th>\n",
       "      <th>highly_variable</th>\n",
       "      <th>means</th>\n",
       "      <th>dispersions</th>\n",
       "      <th>dispersions_norm</th>\n",
       "    </tr>\n",
       "    <tr>\n",
       "      <th>index</th>\n",
       "      <th></th>\n",
       "      <th></th>\n",
       "      <th></th>\n",
       "      <th></th>\n",
       "      <th></th>\n",
       "    </tr>\n",
       "  </thead>\n",
       "  <tbody>\n",
       "    <tr>\n",
       "      <th>ENSG00000239945</th>\n",
       "      <td>RP11-34P13.8</td>\n",
       "      <td>True</td>\n",
       "      <td>0.000139</td>\n",
       "      <td>0.821591</td>\n",
       "      <td>1.999459</td>\n",
       "    </tr>\n",
       "    <tr>\n",
       "      <th>ENSG00000223764</th>\n",
       "      <td>RP11-54O7.3</td>\n",
       "      <td>True</td>\n",
       "      <td>0.009975</td>\n",
       "      <td>0.453863</td>\n",
       "      <td>0.777815</td>\n",
       "    </tr>\n",
       "    <tr>\n",
       "      <th>ENSG00000187634</th>\n",
       "      <td>SAMD11</td>\n",
       "      <td>True</td>\n",
       "      <td>0.028155</td>\n",
       "      <td>0.826190</td>\n",
       "      <td>2.014739</td>\n",
       "    </tr>\n",
       "    <tr>\n",
       "      <th>ENSG00000187583</th>\n",
       "      <td>PLEKHN1</td>\n",
       "      <td>True</td>\n",
       "      <td>0.000175</td>\n",
       "      <td>0.433592</td>\n",
       "      <td>0.710471</td>\n",
       "    </tr>\n",
       "    <tr>\n",
       "      <th>ENSG00000188290</th>\n",
       "      <td>HES4</td>\n",
       "      <td>True</td>\n",
       "      <td>0.301794</td>\n",
       "      <td>0.438797</td>\n",
       "      <td>0.728025</td>\n",
       "    </tr>\n",
       "    <tr>\n",
       "      <th>...</th>\n",
       "      <td>...</td>\n",
       "      <td>...</td>\n",
       "      <td>...</td>\n",
       "      <td>...</td>\n",
       "      <td>...</td>\n",
       "    </tr>\n",
       "    <tr>\n",
       "      <th>ENSG00000212907</th>\n",
       "      <td>MT-ND4L</td>\n",
       "      <td>True</td>\n",
       "      <td>1.349594</td>\n",
       "      <td>0.447014</td>\n",
       "      <td>0.320292</td>\n",
       "    </tr>\n",
       "    <tr>\n",
       "      <th>ENSG00000198886</th>\n",
       "      <td>MT-ND4</td>\n",
       "      <td>True</td>\n",
       "      <td>4.591201</td>\n",
       "      <td>2.171050</td>\n",
       "      <td>1.198147</td>\n",
       "    </tr>\n",
       "    <tr>\n",
       "      <th>ENSG00000198695</th>\n",
       "      <td>MT-ND6</td>\n",
       "      <td>True</td>\n",
       "      <td>1.695544</td>\n",
       "      <td>1.058854</td>\n",
       "      <td>3.680511</td>\n",
       "    </tr>\n",
       "    <tr>\n",
       "      <th>ENSG00000198727</th>\n",
       "      <td>MT-CYB</td>\n",
       "      <td>True</td>\n",
       "      <td>3.819011</td>\n",
       "      <td>1.677951</td>\n",
       "      <td>0.482453</td>\n",
       "    </tr>\n",
       "    <tr>\n",
       "      <th>ENSG00000278633</th>\n",
       "      <td>AC023491.2</td>\n",
       "      <td>True</td>\n",
       "      <td>0.000023</td>\n",
       "      <td>0.895332</td>\n",
       "      <td>2.244436</td>\n",
       "    </tr>\n",
       "  </tbody>\n",
       "</table>\n",
       "<p>5000 rows × 5 columns</p>\n",
       "</div>"
      ],
      "text/plain": [
       "                 gene_symbols  highly_variable     means  dispersions  \\\n",
       "index                                                                   \n",
       "ENSG00000239945  RP11-34P13.8             True  0.000139     0.821591   \n",
       "ENSG00000223764   RP11-54O7.3             True  0.009975     0.453863   \n",
       "ENSG00000187634        SAMD11             True  0.028155     0.826190   \n",
       "ENSG00000187583       PLEKHN1             True  0.000175     0.433592   \n",
       "ENSG00000188290          HES4             True  0.301794     0.438797   \n",
       "...                       ...              ...       ...          ...   \n",
       "ENSG00000212907       MT-ND4L             True  1.349594     0.447014   \n",
       "ENSG00000198886        MT-ND4             True  4.591201     2.171050   \n",
       "ENSG00000198695        MT-ND6             True  1.695544     1.058854   \n",
       "ENSG00000198727        MT-CYB             True  3.819011     1.677951   \n",
       "ENSG00000278633    AC023491.2             True  0.000023     0.895332   \n",
       "\n",
       "                 dispersions_norm  \n",
       "index                              \n",
       "ENSG00000239945          1.999459  \n",
       "ENSG00000223764          0.777815  \n",
       "ENSG00000187634          2.014739  \n",
       "ENSG00000187583          0.710471  \n",
       "ENSG00000188290          0.728025  \n",
       "...                           ...  \n",
       "ENSG00000212907          0.320292  \n",
       "ENSG00000198886          1.198147  \n",
       "ENSG00000198695          3.680511  \n",
       "ENSG00000198727          0.482453  \n",
       "ENSG00000278633          2.244436  \n",
       "\n",
       "[5000 rows x 5 columns]"
      ]
     },
     "execution_count": 15,
     "metadata": {},
     "output_type": "execute_result"
    }
   ],
   "source": [
    "adata_new.var"
   ]
  }
 ],
 "metadata": {
  "interpreter": {
   "hash": "4b9c33de91996e58fa31ed4c3d9d299f1a743c5f7d1a68bf08083f0965686475"
  },
  "kernelspec": {
   "display_name": "Python 3.9.12 ('gnn-env')",
   "language": "python",
   "name": "python3"
  },
  "language_info": {
   "codemirror_mode": {
    "name": "ipython",
    "version": 3
   },
   "file_extension": ".py",
   "mimetype": "text/x-python",
   "name": "python",
   "nbconvert_exporter": "python",
   "pygments_lexer": "ipython3",
   "version": "3.9.12"
  }
 },
 "nbformat": 4,
 "nbformat_minor": 4
}
